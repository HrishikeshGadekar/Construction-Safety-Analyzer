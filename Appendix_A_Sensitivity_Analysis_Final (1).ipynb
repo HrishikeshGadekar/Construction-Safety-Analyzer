{
 "cells": [
  {
   "cell_type": "code",
   "execution_count": 24,
   "metadata": {
    "colab": {
     "base_uri": "https://localhost:8080/"
    },
    "id": "OBOKC9LmL-D9",
    "outputId": "c4359b31-79cb-4883-99ff-d12768619a57"
   },
   "outputs": [],
   "source": [
    "# Import all the required libraries\n",
    "import numpy as np\n",
    "import pandas as pd\n",
    "\n",
    "import seaborn as sns\n",
    "import matplotlib.pyplot as plt\n",
    "%matplotlib inline\n",
    "\n",
    "import nltk\n",
    "from nltk import word_tokenize\n",
    "\n",
    "from sklearn.feature_extraction.text import CountVectorizer\n",
    "from sklearn.feature_extraction.text import TfidfVectorizer\n",
    "from collections import Counter\n",
    "from wordcloud import WordCloud\n",
    "\n",
    "from sklearn.pipeline import Pipeline\n",
    "from sklearn.feature_extraction.text import CountVectorizer, TfidfVectorizer, TfidfTransformer\n",
    "from sklearn.naive_bayes import MultinomialNB\n",
    "\n",
    "import re\n",
    "from nltk.corpus import stopwords\n",
    "from nltk.stem import PorterStemmer\n",
    "from sklearn.feature_extraction.text import TfidfVectorizer\n",
    "from sklearn.pipeline import Pipeline\n",
    "from sklearn.feature_selection import SelectKBest, chi2\n",
    "from sqlite3 import Error\n",
    "import sqlite3\n",
    "import pickle\n",
    "import nltk\n",
    "%matplotlib inline\n",
    "\n",
    "# SciKit learn Models:\n",
    "from sklearn.linear_model import LinearRegression\n",
    "from sklearn.linear_model import LogisticRegression\n",
    "from sklearn.neighbors import KNeighborsClassifier\n",
    "from sklearn.tree import DecisionTreeClassifier\n",
    "from sklearn.naive_bayes import BernoulliNB\n",
    "from sklearn.naive_bayes import MultinomialNB\n",
    "from sklearn.svm import SVC\n",
    "from sklearn.ensemble import RandomForestClassifier\n",
    "from sklearn.model_selection import KFold\n",
    "from xgboost import XGBClassifier\n",
    "\n",
    "from sklearn.model_selection import GridSearchCV \n",
    "\n",
    "# SciKit learn Metrics:\n",
    "from sklearn.metrics import confusion_matrix\n",
    "from sklearn.metrics import plot_confusion_matrix\n",
    "from sklearn.metrics import classification_report\n",
    "from sklearn.metrics import accuracy_score\n",
    "from sklearn.metrics import f1_score\n",
    "from sklearn.model_selection import cross_val_score\n",
    "from sklearn.metrics import roc_curve,auc,roc_auc_score\n",
    "from sklearn.preprocessing import PowerTransformer\n",
    "from sklearn.preprocessing import StandardScaler\n",
    "from sklearn.preprocessing import LabelEncoder\n",
    "from sklearn.utils import resample\n",
    "from sklearn.model_selection import train_test_split\n",
    "from sklearn.preprocessing import StandardScaler\n",
    "from statsmodels.stats.outliers_influence import variance_inflation_factor\n",
    "from sklearn.metrics import f1_score, make_scorer\n",
    "f1scoring = {'f1': make_scorer(f1_score , average='weighted')}\n",
    "\n",
    "from keras.models import Sequential\n",
    "from keras.layers import Dense, Dropout, Activation\n",
    "from keras.layers import Embedding, LSTM\n",
    "\n",
    "from keras.layers import Conv1D, Flatten, MaxPooling1D\n",
    "from keras.preprocessing import text, sequence\n",
    "#import wandb\n",
    "#from wandb.keras import WandbCallback\n",
    "\n",
    "import pickle\n",
    "from flask import Flask, request, render_template"
   ]
  },
  {
   "cell_type": "code",
   "execution_count": 2,
   "metadata": {
    "colab": {
     "base_uri": "https://localhost:8080/",
     "height": 270
    },
    "id": "9ngbLxNKvsUX",
    "outputId": "4266f870-f16c-4f9e-8af6-f199eb4126ab"
   },
   "outputs": [
    {
     "data": {
      "text/html": [
       "<div>\n",
       "<style scoped>\n",
       "    .dataframe tbody tr th:only-of-type {\n",
       "        vertical-align: middle;\n",
       "    }\n",
       "\n",
       "    .dataframe tbody tr th {\n",
       "        vertical-align: top;\n",
       "    }\n",
       "\n",
       "    .dataframe thead th {\n",
       "        text-align: right;\n",
       "    }\n",
       "</style>\n",
       "<table border=\"1\" class=\"dataframe\">\n",
       "  <thead>\n",
       "    <tr style=\"text-align: right;\">\n",
       "      <th></th>\n",
       "      <th>Unnamed: 0</th>\n",
       "      <th>OBSERVATION</th>\n",
       "      <th>OBS(mist-free)</th>\n",
       "      <th>OBS(mist-free)-2</th>\n",
       "      <th>Category(corrected)</th>\n",
       "      <th>Category(old)</th>\n",
       "      <th>Category-encoded-2</th>\n",
       "      <th>Category-encoded</th>\n",
       "    </tr>\n",
       "  </thead>\n",
       "  <tbody>\n",
       "    <tr>\n",
       "      <th>0</th>\n",
       "      <td>5209</td>\n",
       "      <td>Two workers without fire blankets grinding wor...</td>\n",
       "      <td>two worker without fire blanket grinding work ...</td>\n",
       "      <td>two worker without fire blanket grinding work ...</td>\n",
       "      <td>UC</td>\n",
       "      <td>UC</td>\n",
       "      <td>2</td>\n",
       "      <td>2</td>\n",
       "    </tr>\n",
       "    <tr>\n",
       "      <th>1</th>\n",
       "      <td>11954</td>\n",
       "      <td>All electrical &amp; mechanical equipment tagged w...</td>\n",
       "      <td>electrical mechanical equipment tagged blue co...</td>\n",
       "      <td>electrical mechanical equipment tagged blue co...</td>\n",
       "      <td>GO</td>\n",
       "      <td>GO</td>\n",
       "      <td>0</td>\n",
       "      <td>0</td>\n",
       "    </tr>\n",
       "    <tr>\n",
       "      <th>2</th>\n",
       "      <td>11027</td>\n",
       "      <td>Safe excavation work.</td>\n",
       "      <td>safe excavation work</td>\n",
       "      <td>safe excavation work</td>\n",
       "      <td>GO</td>\n",
       "      <td>GO</td>\n",
       "      <td>0</td>\n",
       "      <td>0</td>\n",
       "    </tr>\n",
       "    <tr>\n",
       "      <th>3</th>\n",
       "      <td>10019</td>\n",
       "      <td>Very good housekeeping</td>\n",
       "      <td>good housekeeping</td>\n",
       "      <td>good housekeeping</td>\n",
       "      <td>GO</td>\n",
       "      <td>GO</td>\n",
       "      <td>0</td>\n",
       "      <td>0</td>\n",
       "    </tr>\n",
       "    <tr>\n",
       "      <th>4</th>\n",
       "      <td>2026</td>\n",
       "      <td>Welder assistant was sleeping while his partne...</td>\n",
       "      <td>welder assistant sleeping partner welding beside</td>\n",
       "      <td>welder assistant sleeping partner welding beside</td>\n",
       "      <td>UA</td>\n",
       "      <td>UA</td>\n",
       "      <td>1</td>\n",
       "      <td>1</td>\n",
       "    </tr>\n",
       "  </tbody>\n",
       "</table>\n",
       "</div>"
      ],
      "text/plain": [
       "   Unnamed: 0                                        OBSERVATION  \\\n",
       "0        5209  Two workers without fire blankets grinding wor...   \n",
       "1       11954  All electrical & mechanical equipment tagged w...   \n",
       "2       11027                              Safe excavation work.   \n",
       "3       10019                             Very good housekeeping   \n",
       "4        2026  Welder assistant was sleeping while his partne...   \n",
       "\n",
       "                                      OBS(mist-free)  \\\n",
       "0  two worker without fire blanket grinding work ...   \n",
       "1  electrical mechanical equipment tagged blue co...   \n",
       "2                               safe excavation work   \n",
       "3                                  good housekeeping   \n",
       "4   welder assistant sleeping partner welding beside   \n",
       "\n",
       "                                    OBS(mist-free)-2 Category(corrected)  \\\n",
       "0  two worker without fire blanket grinding work ...                  UC   \n",
       "1  electrical mechanical equipment tagged blue co...                  GO   \n",
       "2                               safe excavation work                  GO   \n",
       "3                                  good housekeeping                  GO   \n",
       "4   welder assistant sleeping partner welding beside                  UA   \n",
       "\n",
       "  Category(old)  Category-encoded-2  Category-encoded  \n",
       "0            UC                   2                 2  \n",
       "1            GO                   0                 0  \n",
       "2            GO                   0                 0  \n",
       "3            GO                   0                 0  \n",
       "4            UA                   1                 1  "
      ]
     },
     "execution_count": 2,
     "metadata": {},
     "output_type": "execute_result"
    }
   ],
   "source": [
    "# Import the Independent Test data: final(2409).csv\n",
    "test = pd.read_csv('final2409.csv')\n",
    "\n",
    "X_itest = test['OBS(mist-free)-2']\n",
    "y_itest = test['Category-encoded-2']\n",
    "\n",
    "test.head()"
   ]
  },
  {
   "cell_type": "code",
   "execution_count": 3,
   "metadata": {
    "id": "mpl2jROAfD6k"
   },
   "outputs": [],
   "source": [
    "# Import Train and Test data\n",
    "train_data = pd.read_csv('train_1.csv')\n",
    "test_data = pd.read_csv('d_1.csv')"
   ]
  },
  {
   "cell_type": "code",
   "execution_count": 4,
   "metadata": {
    "colab": {
     "base_uri": "https://localhost:8080/",
     "height": 304
    },
    "id": "jfeMPJRxvsUZ",
    "outputId": "39e0c3c1-4a67-497b-9480-575899f30a64"
   },
   "outputs": [
    {
     "data": {
      "text/html": [
       "<div>\n",
       "<style scoped>\n",
       "    .dataframe tbody tr th:only-of-type {\n",
       "        vertical-align: middle;\n",
       "    }\n",
       "\n",
       "    .dataframe tbody tr th {\n",
       "        vertical-align: top;\n",
       "    }\n",
       "\n",
       "    .dataframe thead th {\n",
       "        text-align: right;\n",
       "    }\n",
       "</style>\n",
       "<table border=\"1\" class=\"dataframe\">\n",
       "  <thead>\n",
       "    <tr style=\"text-align: right;\">\n",
       "      <th></th>\n",
       "      <th>Unnamed: 0</th>\n",
       "      <th>Unnamed: 0.1</th>\n",
       "      <th>Unnamed: 0.1.1</th>\n",
       "      <th>OBSERVATION</th>\n",
       "      <th>OBS(mist-free)</th>\n",
       "      <th>OBS(mist-free)-2</th>\n",
       "      <th>Category(corrected)</th>\n",
       "      <th>Category(old)</th>\n",
       "      <th>Category-encoded</th>\n",
       "      <th>Category-encoded-2</th>\n",
       "    </tr>\n",
       "  </thead>\n",
       "  <tbody>\n",
       "    <tr>\n",
       "      <th>0</th>\n",
       "      <td>0</td>\n",
       "      <td>1709</td>\n",
       "      <td>11471</td>\n",
       "      <td>A TOOL CAN USED BY THE WELDING GROUP WAS INSID...</td>\n",
       "      <td>tool used welding group inside approved liftin...</td>\n",
       "      <td>tool used welding group inside approved liftin...</td>\n",
       "      <td>GO</td>\n",
       "      <td>GO</td>\n",
       "      <td>0</td>\n",
       "      <td>0</td>\n",
       "    </tr>\n",
       "    <tr>\n",
       "      <th>1</th>\n",
       "      <td>1</td>\n",
       "      <td>403</td>\n",
       "      <td>1406</td>\n",
       "      <td>In pipe rack area no proper barricate.</td>\n",
       "      <td>pipe rack area proper barricade</td>\n",
       "      <td>pipe rack area no proper barricade</td>\n",
       "      <td>UC</td>\n",
       "      <td>UC</td>\n",
       "      <td>2</td>\n",
       "      <td>2</td>\n",
       "    </tr>\n",
       "    <tr>\n",
       "      <th>2</th>\n",
       "      <td>2</td>\n",
       "      <td>6911</td>\n",
       "      <td>8801</td>\n",
       "      <td>Brown Field, Along street - 7 of refinery area...</td>\n",
       "      <td>brown field along street refinery area observe...</td>\n",
       "      <td>brown field along street refinery area observe...</td>\n",
       "      <td>UC</td>\n",
       "      <td>UC</td>\n",
       "      <td>2</td>\n",
       "      <td>2</td>\n",
       "    </tr>\n",
       "    <tr>\n",
       "      <th>3</th>\n",
       "      <td>3</td>\n",
       "      <td>7177</td>\n",
       "      <td>5709</td>\n",
       "      <td>Unproper access way due to pipe materials.</td>\n",
       "      <td>unproper access way due pipe material</td>\n",
       "      <td>unproper access way due pipe material</td>\n",
       "      <td>UC</td>\n",
       "      <td>UC</td>\n",
       "      <td>2</td>\n",
       "      <td>2</td>\n",
       "    </tr>\n",
       "    <tr>\n",
       "      <th>4</th>\n",
       "      <td>4</td>\n",
       "      <td>1849</td>\n",
       "      <td>10448</td>\n",
       "      <td>During the binding of GRE pipe &amp; spools all bo...</td>\n",
       "      <td>binding gre pipe spool border using rubber glo...</td>\n",
       "      <td>during binding gre pipe spool border using rub...</td>\n",
       "      <td>GO</td>\n",
       "      <td>GO</td>\n",
       "      <td>0</td>\n",
       "      <td>0</td>\n",
       "    </tr>\n",
       "  </tbody>\n",
       "</table>\n",
       "</div>"
      ],
      "text/plain": [
       "   Unnamed: 0  Unnamed: 0.1  Unnamed: 0.1.1  \\\n",
       "0           0          1709           11471   \n",
       "1           1           403            1406   \n",
       "2           2          6911            8801   \n",
       "3           3          7177            5709   \n",
       "4           4          1849           10448   \n",
       "\n",
       "                                         OBSERVATION  \\\n",
       "0  A TOOL CAN USED BY THE WELDING GROUP WAS INSID...   \n",
       "1             In pipe rack area no proper barricate.   \n",
       "2  Brown Field, Along street - 7 of refinery area...   \n",
       "3         Unproper access way due to pipe materials.   \n",
       "4  During the binding of GRE pipe & spools all bo...   \n",
       "\n",
       "                                      OBS(mist-free)  \\\n",
       "0  tool used welding group inside approved liftin...   \n",
       "1                    pipe rack area proper barricade   \n",
       "2  brown field along street refinery area observe...   \n",
       "3              unproper access way due pipe material   \n",
       "4  binding gre pipe spool border using rubber glo...   \n",
       "\n",
       "                                    OBS(mist-free)-2 Category(corrected)  \\\n",
       "0  tool used welding group inside approved liftin...                  GO   \n",
       "1                 pipe rack area no proper barricade                  UC   \n",
       "2  brown field along street refinery area observe...                  UC   \n",
       "3              unproper access way due pipe material                  UC   \n",
       "4  during binding gre pipe spool border using rub...                  GO   \n",
       "\n",
       "  Category(old)  Category-encoded  Category-encoded-2  \n",
       "0            GO                 0                   0  \n",
       "1            UC                 2                   2  \n",
       "2            UC                 2                   2  \n",
       "3            UC                 2                   2  \n",
       "4            GO                 0                   0  "
      ]
     },
     "execution_count": 4,
     "metadata": {},
     "output_type": "execute_result"
    }
   ],
   "source": [
    "train_data.head()"
   ]
  },
  {
   "cell_type": "code",
   "execution_count": 5,
   "metadata": {
    "colab": {
     "base_uri": "https://localhost:8080/",
     "height": 304
    },
    "id": "4-vD32mnvsUd",
    "outputId": "992f8a75-7c4f-4ae1-8378-33ae3cf19351"
   },
   "outputs": [
    {
     "data": {
      "text/html": [
       "<div>\n",
       "<style scoped>\n",
       "    .dataframe tbody tr th:only-of-type {\n",
       "        vertical-align: middle;\n",
       "    }\n",
       "\n",
       "    .dataframe tbody tr th {\n",
       "        vertical-align: top;\n",
       "    }\n",
       "\n",
       "    .dataframe thead th {\n",
       "        text-align: right;\n",
       "    }\n",
       "</style>\n",
       "<table border=\"1\" class=\"dataframe\">\n",
       "  <thead>\n",
       "    <tr style=\"text-align: right;\">\n",
       "      <th></th>\n",
       "      <th>Unnamed: 0</th>\n",
       "      <th>Unnamed: 0.1</th>\n",
       "      <th>OBSERVATION</th>\n",
       "      <th>OBS(mist-free)</th>\n",
       "      <th>OBS(mist-free)-2</th>\n",
       "      <th>Category(corrected)</th>\n",
       "      <th>Category(old)</th>\n",
       "      <th>Category-encoded</th>\n",
       "      <th>Category-encoded-2</th>\n",
       "    </tr>\n",
       "  </thead>\n",
       "  <tbody>\n",
       "    <tr>\n",
       "      <th>0</th>\n",
       "      <td>2751</td>\n",
       "      <td>4178</td>\n",
       "      <td>Rubbish &amp; necessary materials are scatterd on ...</td>\n",
       "      <td>rubbish necessary material scattered west sh c...</td>\n",
       "      <td>rubbish necessary material scattered west sh c...</td>\n",
       "      <td>UC</td>\n",
       "      <td>UC</td>\n",
       "      <td>2</td>\n",
       "      <td>2</td>\n",
       "    </tr>\n",
       "    <tr>\n",
       "      <th>1</th>\n",
       "      <td>4383</td>\n",
       "      <td>2740</td>\n",
       "      <td>Observed that scaffolding materials were mixed...</td>\n",
       "      <td>observed scaffolding material mixed scattered</td>\n",
       "      <td>observed scaffolding material mixed scattered</td>\n",
       "      <td>UC</td>\n",
       "      <td>UC</td>\n",
       "      <td>2</td>\n",
       "      <td>2</td>\n",
       "    </tr>\n",
       "    <tr>\n",
       "      <th>2</th>\n",
       "      <td>4494</td>\n",
       "      <td>7897</td>\n",
       "      <td>A few guys are not holding safety helmet durin...</td>\n",
       "      <td>guy not holding safety helmet tbm</td>\n",
       "      <td>guy not holding safety helmet during tbm</td>\n",
       "      <td>UC</td>\n",
       "      <td>UC</td>\n",
       "      <td>2</td>\n",
       "      <td>2</td>\n",
       "    </tr>\n",
       "    <tr>\n",
       "      <th>3</th>\n",
       "      <td>9464</td>\n",
       "      <td>3564</td>\n",
       "      <td>Piping spool stand w/out proper support</td>\n",
       "      <td>piping spool stand w proper support</td>\n",
       "      <td>piping spool stand w proper support</td>\n",
       "      <td>UC</td>\n",
       "      <td>UC</td>\n",
       "      <td>2</td>\n",
       "      <td>2</td>\n",
       "    </tr>\n",
       "    <tr>\n",
       "      <th>4</th>\n",
       "      <td>8779</td>\n",
       "      <td>7166</td>\n",
       "      <td>EQUIPMENT FOUND WITH OUT COLOR CODING IN WORK ...</td>\n",
       "      <td>equipment found color coding work site</td>\n",
       "      <td>equipment found color coding work site</td>\n",
       "      <td>UC</td>\n",
       "      <td>UC</td>\n",
       "      <td>2</td>\n",
       "      <td>2</td>\n",
       "    </tr>\n",
       "  </tbody>\n",
       "</table>\n",
       "</div>"
      ],
      "text/plain": [
       "   Unnamed: 0  Unnamed: 0.1  \\\n",
       "0        2751          4178   \n",
       "1        4383          2740   \n",
       "2        4494          7897   \n",
       "3        9464          3564   \n",
       "4        8779          7166   \n",
       "\n",
       "                                         OBSERVATION  \\\n",
       "0  Rubbish & necessary materials are scatterd on ...   \n",
       "1  Observed that scaffolding materials were mixed...   \n",
       "2  A few guys are not holding safety helmet durin...   \n",
       "3            Piping spool stand w/out proper support   \n",
       "4  EQUIPMENT FOUND WITH OUT COLOR CODING IN WORK ...   \n",
       "\n",
       "                                      OBS(mist-free)  \\\n",
       "0  rubbish necessary material scattered west sh c...   \n",
       "1      observed scaffolding material mixed scattered   \n",
       "2                  guy not holding safety helmet tbm   \n",
       "3                piping spool stand w proper support   \n",
       "4             equipment found color coding work site   \n",
       "\n",
       "                                    OBS(mist-free)-2 Category(corrected)  \\\n",
       "0  rubbish necessary material scattered west sh c...                  UC   \n",
       "1      observed scaffolding material mixed scattered                  UC   \n",
       "2           guy not holding safety helmet during tbm                  UC   \n",
       "3                piping spool stand w proper support                  UC   \n",
       "4             equipment found color coding work site                  UC   \n",
       "\n",
       "  Category(old)  Category-encoded  Category-encoded-2  \n",
       "0            UC                 2                   2  \n",
       "1            UC                 2                   2  \n",
       "2            UC                 2                   2  \n",
       "3            UC                 2                   2  \n",
       "4            UC                 2                   2  "
      ]
     },
     "execution_count": 5,
     "metadata": {},
     "output_type": "execute_result"
    }
   ],
   "source": [
    "test_data.head()"
   ]
  },
  {
   "cell_type": "code",
   "execution_count": null,
   "metadata": {
    "colab": {
     "base_uri": "https://localhost:8080/",
     "height": 388
    },
    "id": "eULvmVfARVWv",
    "outputId": "7678b92f-3ea3-4e2f-cb54-29a83d2dde9d"
   },
   "outputs": [
    {
     "data": {
      "image/png": "[encoded data removed]",
      "text/plain": [
       "<Figure size 1584x432 with 1 Axes>"
      ]
     },
     "metadata": {
      "needs_background": "light"
     },
     "output_type": "display_data"
    }
   ],
   "source": [
    "#words per observation\n",
    "plt.figure(figsize = (22,6))\n",
    "WordsPerReview = train_data['OBS(mist-free)-2'].apply(lambda x: len(x.split(' ')))\n",
    "\n",
    "sns.histplot(WordsPerReview,bins = 120)\n",
    "\n",
    "plt.xlabel('Observation Length')\n",
    "plt.show()"
   ]
  },
  {
   "cell_type": "code",
   "execution_count": null,
   "metadata": {
    "colab": {
     "base_uri": "https://localhost:8080/",
     "height": 198
    },
    "id": "HaJ5TRJLRv68",
    "outputId": "7d385b33-cb01-4a88-81ca-6a34d82a872f"
   },
   "outputs": [
    {
     "data": {
      "image/png": "[encoded data removed]",
      "text/plain": [
       "<Figure size 432x288 with 1 Axes>"
      ]
     },
     "metadata": {
      "needs_background": "light"
     },
     "output_type": "display_data"
    }
   ],
   "source": [
    "txt = ' '.join(review for review in train_data['OBS(mist-free)-2'])\n",
    "\n",
    "wordcloud = WordCloud(\n",
    "            background_color = 'white',\n",
    "            max_font_size = 100,\n",
    "            max_words = 100,\n",
    "            width = 1600,\n",
    "            height = 800\n",
    "            ).generate(txt)\n",
    "\n",
    "\n",
    "plt.imshow(wordcloud, interpolation = 'bilinear')\n",
    "plt.axis('off')\n",
    "plt.show()"
   ]
  },
  {
   "cell_type": "code",
   "execution_count": null,
   "metadata": {
    "colab": {
     "base_uri": "https://localhost:8080/",
     "height": 271
    },
    "id": "GeiFpUAQRwPt",
    "outputId": "65428b2d-ecfc-4b26-8244-23d6bd67e4d1"
   },
   "outputs": [
    {
     "data": {
      "image/png": "[encoded data removed]",
      "text/plain": [
       "<Figure size 432x288 with 1 Axes>"
      ]
     },
     "metadata": {
      "needs_background": "light"
     },
     "output_type": "display_data"
    }
   ],
   "source": [
    "train_data['Category(corrected)'].value_counts().plot.bar(ylim=0)\n",
    "plt.show()"
   ]
  },
  {
   "cell_type": "markdown",
   "metadata": {
    "id": "zN2t1qMCvsU1"
   },
   "source": [
    "## 1) Logistic Regression (LR) Model"
   ]
  },
  {
   "cell_type": "code",
   "execution_count": 20,
   "metadata": {
    "id": "KdpNZaFrBRrL"
   },
   "outputs": [],
   "source": [
    "def LR(tr, ts, rdf, n):\n",
    "    # Import Train and Test data\n",
    "    train_data = pd.read_csv(tr)\n",
    "    test_data = pd.read_csv(ts)\n",
    "    \n",
    "    # TF-IDF Vectorizer for 'OBS(mist-free)-2' text column in Train data\n",
    "    vectorizer = TfidfVectorizer(min_df= 2, sublinear_tf=True, norm='l2', ngram_range=(1, 3))\n",
    "    final_features = vectorizer.fit_transform(train_data['OBS(mist-free)-2']).toarray()\n",
    "    print('TF-IDF Vectorization-')\n",
    "    print('Train data dimensions:', final_features.shape)\n",
    "    print()\n",
    "    \n",
    "    # Train data-\n",
    "    X_train = train_data['OBS(mist-free)-2']\n",
    "    y_train = train_data['Category-encoded-2']\n",
    "    \n",
    "    # Test data-\n",
    "    X_test = test_data['OBS(mist-free)-2']\n",
    "    y_test = test_data['Category-encoded-2']\n",
    "    \n",
    "    # Logistic Regression Pipeline\n",
    "    LRPipeline = Pipeline([('vect', vectorizer),\n",
    "                     ('clf', LogisticRegression(C= 10, class_weight= None, dual= False, fit_intercept= True,\n",
    "                              intercept_scaling= 1, l1_ratio= None, multi_class= 'auto',\n",
    "                              n_jobs= None, penalty= 'l2', random_state=6, solver='liblinear', max_iter=1000))])\n",
    "\n",
    "    model = LRPipeline.fit(X_train, y_train)\n",
    "    y_test = np.array(y_test)\n",
    "\n",
    "    # Final Results on Train, Test & Independent Test datasets\n",
    "    print('The Report for Logistic Regression Model is:- \\n')\n",
    "    \n",
    "    # Train data\n",
    "    print('1) Training Data:')\n",
    "    matrix = plot_confusion_matrix(model, X_train, y_train, values_format='d')\n",
    "    matrix.ax_.set_title('Confusion Matrix')\n",
    "    plt.xlabel('Predicted Label')\n",
    "    plt.gcf().axes[0].tick_params(color='black')\n",
    "    plt.gcf().set_size_inches(4,3)\n",
    "    plt.show()\n",
    "    print(classification_report(y_train, model.predict(X_train)))\n",
    "\n",
    "    # Test data\n",
    "    print('2) Test Data:')\n",
    "    matrix = plot_confusion_matrix(model, X_test, y_test, values_format='d')\n",
    "    matrix.ax_.set_title('Confusion Matrix')\n",
    "    plt.xlabel('Predicted Label')\n",
    "    plt.gcf().axes[0].tick_params(color='black')\n",
    "    plt.gcf().set_size_inches(4,3)\n",
    "    plt.show()\n",
    "    print(classification_report(y_test, model.predict(X_test)))\n",
    "\n",
    "    # Independent Test data\n",
    "    print('3) Independent Test Data:')\n",
    "    matrix = plot_confusion_matrix(model, X_itest, y_itest, values_format='d')\n",
    "    matrix.ax_.set_title('Confusion Matrix')\n",
    "    plt.xlabel('Predicted Label')\n",
    "    plt.gcf().axes[0].tick_params(color='black')\n",
    "    plt.gcf().set_size_inches(4,3)\n",
    "    plt.show()\n",
    "    print(classification_report(y_itest,model.predict(X_itest)))\n",
    "\n",
    "    # Accuracy scores\n",
    "    print('Accuracy Scores for Logistic Regression-')\n",
    "    print('1) Training Data        :', accuracy_score(y_train, model.predict(X_train))*100)\n",
    "    print('2) Test Data            :', accuracy_score(y_test, model.predict(X_test))*100)\n",
    "    print('3) Independent Test Data:', accuracy_score(y_itest, model.predict(X_itest))*100)\n",
    "\n",
    "    # F1 scores\n",
    "    print('\\nF1 Scores for Logistic Regression-')\n",
    "    print('1) Training Data        :', f1_score(y_train, model.predict(X_train), average=\"weighted\") * 100)\n",
    "    print('2) Test Data            :', f1_score(y_test, model.predict(X_test), average=\"weighted\") * 100)\n",
    "    print('3) Independent Test Data:', f1_score(y_itest, model.predict(X_itest), average=\"weighted\") * 100)\n",
    "\n",
    "    # Export Results to DataFrame\n",
    "    curr = 'Split '+str(n)\n",
    "\n",
    "    rdf.loc[curr, ('Training Data', 'GO')] = f1_score(y_train, model.predict(X_train), average=None)[0]\n",
    "    rdf.loc[curr, ('Training Data', 'UA')] = f1_score(y_train, model.predict(X_train), average=None)[1]\n",
    "    rdf.loc[curr, ('Training Data', 'UC')] = f1_score(y_train, model.predict(X_train), average=None)[2]\n",
    "    rdf.loc[curr, ('Training Data', 'Total F1')] = f1_score(y_train, model.predict(X_train), average=\"weighted\")\n",
    "    rdf.loc[curr, ('Training Data', 'Accuracy')] = accuracy_score(y_train, model.predict(X_train))\n",
    "\n",
    "    rdf.loc[curr, ('Testing Data', 'GO')] = f1_score(y_test, model.predict(X_test), average=None)[0]\n",
    "    rdf.loc[curr, ('Testing Data', 'UA')] = f1_score(y_test, model.predict(X_test), average=None)[1]\n",
    "    rdf.loc[curr, ('Testing Data', 'UC')] = f1_score(y_test, model.predict(X_test), average=None)[2]\n",
    "    rdf.loc[curr, ('Testing Data', 'Total F1')] = f1_score(y_test, model.predict(X_test), average=\"weighted\")\n",
    "    rdf.loc[curr, ('Testing Data', 'Accuracy')] = accuracy_score(y_test, model.predict(X_test))\n",
    "\n",
    "    rdf.loc[curr, ('Independent Test Data', 'GO')] = f1_score(y_itest, model.predict(X_itest), average=None)[0]\n",
    "    rdf.loc[curr, ('Independent Test Data', 'UA')] = f1_score(y_itest, model.predict(X_itest), average=None)[1]\n",
    "    rdf.loc[curr, ('Independent Test Data', 'UC')] = f1_score(y_itest, model.predict(X_itest), average=None)[2]\n",
    "    rdf.loc[curr, ('Independent Test Data', 'Total F1')] = f1_score(y_itest, model.predict(X_itest), average=\"weighted\")\n",
    "    rdf.loc[curr, ('Independent Test Data', 'Accuracy')] = accuracy_score(y_itest, model.predict(X_itest))"
   ]
  },
  {
   "cell_type": "code",
   "execution_count": 21,
   "metadata": {
    "id": "ui5rHOeeGgMu"
   },
   "outputs": [],
   "source": [
    "# Final Output DataFrame\n",
    "# Index Levels\n",
    "outside = ['Training Data', 'Training Data', 'Training Data', 'Training Data', 'Training Data', \n",
    "           'Testing Data', 'Testing Data', 'Testing Data', 'Testing Data', 'Testing Data', \n",
    "           'Independent Test Data', 'Independent Test Data', 'Independent Test Data', 'Independent Test Data', 'Independent Test Data']\n",
    "inside = ['GO', 'UA', 'UC', 'Total F1', 'Accuracy', 'GO', 'UA', 'UC', 'Total F1', 'Accuracy', 'GO', 'UA', 'UC', 'Total F1', 'Accuracy']\n",
    "hier_index = list(zip(outside,inside))\n",
    "\n",
    "cols = ['Split 1', 'Split 2', 'Split 3', 'Split 4', 'Split 5', 'Split 6', 'Split 7', 'Split 8', 'Split 9', 'Split 10']\n",
    "\n",
    "# Forming the MultiIndex first\n",
    "hier_index = pd.MultiIndex.from_tuples(hier_index)\n",
    "\n",
    "rdf = pd.DataFrame(np.random.randn(10, 15), index=cols,columns=hier_index)"
   ]
  },
  {
   "cell_type": "code",
   "execution_count": 8,
   "metadata": {
    "colab": {
     "base_uri": "https://localhost:8080/",
     "height": 1000
    },
    "id": "VovEYLapBRrW",
    "outputId": "5517ad1e-b066-4c2e-c917-db73a54f29ad"
   },
   "outputs": [
    {
     "name": "stdout",
     "output_type": "stream",
     "text": [
      "\n",
      "************************** Logistic Regression on train_1.csv & d_1.csv **************************\n",
      "TF-IDF Vectorization-\n",
      "Train data dimensions: (9000, 19411)\n",
      "\n",
      "The Report for Logistic Regression Model is:- \n",
      "\n",
      "1) Training Data:\n"
     ]
    },
    {
     "data": {
      "image/png": "[encoded data removed]",
      "text/plain": [
       "<Figure size 288x216 with 2 Axes>"
      ]
     },
     "metadata": {
      "needs_background": "light"
     },
     "output_type": "display_data"
    },
    {
     "name": "stdout",
     "output_type": "stream",
     "text": [
      "              precision    recall  f1-score   support\n",
      "\n",
      "           0       0.98      0.99      0.98      1881\n",
      "           1       0.96      0.90      0.93      2183\n",
      "           2       0.96      0.98      0.97      4936\n",
      "\n",
      "    accuracy                           0.96      9000\n",
      "   macro avg       0.96      0.96      0.96      9000\n",
      "weighted avg       0.96      0.96      0.96      9000\n",
      "\n",
      "2) Test Data:\n"
     ]
    },
    {
     "data": {
      "image/png": "[encoded data removed]",
      "text/plain": [
       "<Figure size 288x216 with 2 Axes>"
      ]
     },
     "metadata": {
      "needs_background": "light"
     },
     "output_type": "display_data"
    },
    {
     "name": "stdout",
     "output_type": "stream",
     "text": [
      "              precision    recall  f1-score   support\n",
      "\n",
      "           0       0.88      0.80      0.84       211\n",
      "           1       0.69      0.66      0.68       239\n",
      "           2       0.83      0.87      0.85       550\n",
      "\n",
      "    accuracy                           0.81      1000\n",
      "   macro avg       0.80      0.78      0.79      1000\n",
      "weighted avg       0.81      0.81      0.81      1000\n",
      "\n",
      "3) Independent Test Data:\n"
     ]
    },
    {
     "data": {
      "image/png": "[encoded data removed]",
      "text/plain": [
       "<Figure size 288x216 with 2 Axes>"
      ]
     },
     "metadata": {
      "needs_background": "light"
     },
     "output_type": "display_data"
    },
    {
     "name": "stdout",
     "output_type": "stream",
     "text": [
      "              precision    recall  f1-score   support\n",
      "\n",
      "           0       0.88      0.84      0.86       523\n",
      "           1       0.68      0.57      0.62       580\n",
      "           2       0.79      0.86      0.83      1306\n",
      "\n",
      "    accuracy                           0.79      2409\n",
      "   macro avg       0.78      0.76      0.77      2409\n",
      "weighted avg       0.78      0.79      0.78      2409\n",
      "\n",
      "Accuracy Scores for Logistic Regression-\n",
      "1) Training Data        : 96.23333333333333\n",
      "2) Test Data            : 80.7\n",
      "3) Independent Test Data: 78.74636778746368\n",
      "\n",
      "F1 Scores for Logistic Regression-\n",
      "1) Training Data        : 96.20659973422742\n",
      "2) Test Data            : 80.59730889342585\n",
      "3) Independent Test Data: 78.37541722413647\n",
      "\n",
      "\n",
      "************************** Logistic Regression on train_2.csv & d_2.csv **************************\n",
      "TF-IDF Vectorization-\n",
      "Train data dimensions: (9000, 19343)\n",
      "\n",
      "The Report for Logistic Regression Model is:- \n",
      "\n",
      "1) Training Data:\n"
     ]
    },
    {
     "data": {
      "image/png": "[encoded data removed]",
      "text/plain": [
       "<Figure size 288x216 with 2 Axes>"
      ]
     },
     "metadata": {
      "needs_background": "light"
     },
     "output_type": "display_data"
    },
    {
     "name": "stdout",
     "output_type": "stream",
     "text": [
      "              precision    recall  f1-score   support\n",
      "\n",
      "           0       0.98      0.99      0.98      1883\n",
      "           1       0.96      0.90      0.93      2181\n",
      "           2       0.96      0.98      0.97      4936\n",
      "\n",
      "    accuracy                           0.96      9000\n",
      "   macro avg       0.97      0.96      0.96      9000\n",
      "weighted avg       0.96      0.96      0.96      9000\n",
      "\n",
      "2) Test Data:\n"
     ]
    },
    {
     "data": {
      "image/png": "[encoded data removed]",
      "text/plain": [
       "<Figure size 288x216 with 2 Axes>"
      ]
     },
     "metadata": {
      "needs_background": "light"
     },
     "output_type": "display_data"
    },
    {
     "name": "stdout",
     "output_type": "stream",
     "text": [
      "              precision    recall  f1-score   support\n",
      "\n",
      "           0       0.89      0.83      0.86       209\n",
      "           1       0.71      0.62      0.66       241\n",
      "           2       0.81      0.88      0.84       550\n",
      "\n",
      "    accuracy                           0.81      1000\n",
      "   macro avg       0.81      0.78      0.79      1000\n",
      "weighted avg       0.80      0.81      0.80      1000\n",
      "\n",
      "3) Independent Test Data:\n"
     ]
    },
    {
     "data": {
      "image/png": "[encoded data removed]",
      "text/plain": [
       "<Figure size 288x216 with 2 Axes>"
      ]
     },
     "metadata": {
      "needs_background": "light"
     },
     "output_type": "display_data"
    },
    {
     "name": "stdout",
     "output_type": "stream",
     "text": [
      "              precision    recall  f1-score   support\n",
      "\n",
      "           0       0.88      0.83      0.85       523\n",
      "           1       0.67      0.56      0.61       580\n",
      "           2       0.79      0.87      0.83      1306\n",
      "\n",
      "    accuracy                           0.79      2409\n",
      "   macro avg       0.78      0.75      0.76      2409\n",
      "weighted avg       0.78      0.79      0.78      2409\n",
      "\n",
      "Accuracy Scores for Logistic Regression-\n",
      "1) Training Data        : 96.23333333333333\n",
      "2) Test Data            : 80.60000000000001\n",
      "3) Independent Test Data: 78.53881278538812\n",
      "\n",
      "F1 Scores for Logistic Regression-\n",
      "1) Training Data        : 96.2040797816906\n",
      "2) Test Data            : 80.32378239708787\n",
      "3) Independent Test Data: 78.08795277952244\n",
      "\n",
      "\n",
      "************************** Logistic Regression on train_3.csv & d_3.csv **************************\n",
      "TF-IDF Vectorization-\n",
      "Train data dimensions: (9000, 19105)\n",
      "\n",
      "The Report for Logistic Regression Model is:- \n",
      "\n",
      "1) Training Data:\n"
     ]
    },
    {
     "data": {
      "image/png": "[encoded data removed]",
      "text/plain": [
       "<Figure size 288x216 with 2 Axes>"
      ]
     },
     "metadata": {
      "needs_background": "light"
     },
     "output_type": "display_data"
    },
    {
     "name": "stdout",
     "output_type": "stream",
     "text": [
      "              precision    recall  f1-score   support\n",
      "\n",
      "           0       0.98      0.99      0.98      1882\n",
      "           1       0.96      0.90      0.93      2187\n",
      "           2       0.96      0.98      0.97      4931\n",
      "\n",
      "    accuracy                           0.96      9000\n",
      "   macro avg       0.96      0.96      0.96      9000\n",
      "weighted avg       0.96      0.96      0.96      9000\n",
      "\n",
      "2) Test Data:\n"
     ]
    },
    {
     "data": {
      "image/png": "[encoded data removed]",
      "text/plain": [
       "<Figure size 288x216 with 2 Axes>"
      ]
     },
     "metadata": {
      "needs_background": "light"
     },
     "output_type": "display_data"
    },
    {
     "name": "stdout",
     "output_type": "stream",
     "text": [
      "              precision    recall  f1-score   support\n",
      "\n",
      "           0       0.89      0.86      0.87       210\n",
      "           1       0.71      0.64      0.67       235\n",
      "           2       0.84      0.88      0.86       555\n",
      "\n",
      "    accuracy                           0.82      1000\n",
      "   macro avg       0.81      0.79      0.80      1000\n",
      "weighted avg       0.82      0.82      0.82      1000\n",
      "\n",
      "3) Independent Test Data:\n"
     ]
    },
    {
     "data": {
      "image/png": "[encoded data removed]",
      "text/plain": [
       "<Figure size 288x216 with 2 Axes>"
      ]
     },
     "metadata": {
      "needs_background": "light"
     },
     "output_type": "display_data"
    },
    {
     "name": "stdout",
     "output_type": "stream",
     "text": [
      "              precision    recall  f1-score   support\n",
      "\n",
      "           0       0.88      0.83      0.85       523\n",
      "           1       0.67      0.56      0.61       580\n",
      "           2       0.79      0.87      0.83      1306\n",
      "\n",
      "    accuracy                           0.78      2409\n",
      "   macro avg       0.78      0.75      0.76      2409\n",
      "weighted avg       0.78      0.78      0.78      2409\n",
      "\n",
      "Accuracy Scores for Logistic Regression-\n",
      "1) Training Data        : 96.12222222222222\n",
      "2) Test Data            : 82.0\n",
      "3) Independent Test Data: 78.49730178497302\n",
      "\n",
      "F1 Scores for Logistic Regression-\n",
      "1) Training Data        : 96.09188642539614\n",
      "2) Test Data            : 81.80313371002484\n",
      "3) Independent Test Data: 78.08402305486882\n",
      "\n",
      "\n",
      "************************** Logistic Regression on train_4.csv & d_4.csv **************************\n",
      "TF-IDF Vectorization-\n",
      "Train data dimensions: (9000, 19329)\n",
      "\n",
      "The Report for Logistic Regression Model is:- \n",
      "\n",
      "1) Training Data:\n"
     ]
    },
    {
     "data": {
      "image/png": "[encoded data removed]",
      "text/plain": [
       "<Figure size 288x216 with 2 Axes>"
      ]
     },
     "metadata": {
      "needs_background": "light"
     },
     "output_type": "display_data"
    },
    {
     "name": "stdout",
     "output_type": "stream",
     "text": [
      "              precision    recall  f1-score   support\n",
      "\n",
      "           0       0.98      0.99      0.99      1881\n",
      "           1       0.96      0.89      0.92      2181\n",
      "           2       0.95      0.98      0.97      4938\n",
      "\n",
      "    accuracy                           0.96      9000\n",
      "   macro avg       0.96      0.95      0.96      9000\n",
      "weighted avg       0.96      0.96      0.96      9000\n",
      "\n",
      "2) Test Data:\n"
     ]
    },
    {
     "data": {
      "image/png": "[encoded data removed]",
      "text/plain": [
       "<Figure size 288x216 with 2 Axes>"
      ]
     },
     "metadata": {
      "needs_background": "light"
     },
     "output_type": "display_data"
    },
    {
     "name": "stdout",
     "output_type": "stream",
     "text": [
      "              precision    recall  f1-score   support\n",
      "\n",
      "           0       0.86      0.82      0.84       211\n",
      "           1       0.70      0.67      0.69       241\n",
      "           2       0.82      0.85      0.84       548\n",
      "\n",
      "    accuracy                           0.80      1000\n",
      "   macro avg       0.79      0.78      0.79      1000\n",
      "weighted avg       0.80      0.80      0.80      1000\n",
      "\n",
      "3) Independent Test Data:\n"
     ]
    },
    {
     "data": {
      "image/png": "[encoded data removed]",
      "text/plain": [
       "<Figure size 288x216 with 2 Axes>"
      ]
     },
     "metadata": {
      "needs_background": "light"
     },
     "output_type": "display_data"
    },
    {
     "name": "stdout",
     "output_type": "stream",
     "text": [
      "              precision    recall  f1-score   support\n",
      "\n",
      "           0       0.88      0.84      0.86       523\n",
      "           1       0.69      0.59      0.63       580\n",
      "           2       0.80      0.86      0.83      1306\n",
      "\n",
      "    accuracy                           0.79      2409\n",
      "   macro avg       0.79      0.76      0.77      2409\n",
      "weighted avg       0.79      0.79      0.79      2409\n",
      "\n",
      "Accuracy Scores for Logistic Regression-\n",
      "1) Training Data        : 96.02222222222223\n",
      "2) Test Data            : 80.10000000000001\n",
      "3) Independent Test Data: 79.20298879202988\n",
      "\n",
      "F1 Scores for Logistic Regression-\n",
      "1) Training Data        : 95.98746196189066\n",
      "2) Test Data            : 80.01217026581654\n",
      "3) Independent Test Data: 78.87678622670869\n",
      "\n",
      "\n",
      "************************** Logistic Regression on train_5.csv & d_5.csv **************************\n",
      "TF-IDF Vectorization-\n",
      "Train data dimensions: (9000, 19315)\n",
      "\n",
      "The Report for Logistic Regression Model is:- \n",
      "\n",
      "1) Training Data:\n"
     ]
    },
    {
     "data": {
      "image/png": "[encoded data removed]",
      "text/plain": [
       "<Figure size 288x216 with 2 Axes>"
      ]
     },
     "metadata": {
      "needs_background": "light"
     },
     "output_type": "display_data"
    },
    {
     "name": "stdout",
     "output_type": "stream",
     "text": [
      "              precision    recall  f1-score   support\n",
      "\n",
      "           0       0.98      0.99      0.98      1883\n",
      "           1       0.96      0.90      0.93      2171\n",
      "           2       0.96      0.98      0.97      4946\n",
      "\n",
      "    accuracy                           0.96      9000\n",
      "   macro avg       0.96      0.96      0.96      9000\n",
      "weighted avg       0.96      0.96      0.96      9000\n",
      "\n",
      "2) Test Data:\n"
     ]
    },
    {
     "data": {
      "image/png": "[encoded data removed]",
      "text/plain": [
       "<Figure size 288x216 with 2 Axes>"
      ]
     },
     "metadata": {
      "needs_background": "light"
     },
     "output_type": "display_data"
    },
    {
     "name": "stdout",
     "output_type": "stream",
     "text": [
      "              precision    recall  f1-score   support\n",
      "\n",
      "           0       0.89      0.87      0.88       209\n",
      "           1       0.72      0.57      0.63       251\n",
      "           2       0.79      0.88      0.83       540\n",
      "\n",
      "    accuracy                           0.80      1000\n",
      "   macro avg       0.80      0.77      0.78      1000\n",
      "weighted avg       0.79      0.80      0.79      1000\n",
      "\n",
      "3) Independent Test Data:\n"
     ]
    },
    {
     "data": {
      "image/png": "[encoded data removed]",
      "text/plain": [
       "<Figure size 288x216 with 2 Axes>"
      ]
     },
     "metadata": {
      "needs_background": "light"
     },
     "output_type": "display_data"
    },
    {
     "name": "stdout",
     "output_type": "stream",
     "text": [
      "              precision    recall  f1-score   support\n",
      "\n",
      "           0       0.87      0.85      0.86       523\n",
      "           1       0.69      0.56      0.62       580\n",
      "           2       0.80      0.87      0.83      1306\n",
      "\n",
      "    accuracy                           0.79      2409\n",
      "   macro avg       0.78      0.76      0.77      2409\n",
      "weighted avg       0.79      0.79      0.79      2409\n",
      "\n",
      "Accuracy Scores for Logistic Regression-\n",
      "1) Training Data        : 96.16666666666667\n",
      "2) Test Data            : 79.7\n",
      "3) Independent Test Data: 78.99543378995433\n",
      "\n",
      "F1 Scores for Logistic Regression-\n",
      "1) Training Data        : 96.1376277523975\n",
      "2) Test Data            : 79.18578768569411\n",
      "3) Independent Test Data: 78.5480470210049\n",
      "\n",
      "\n",
      "************************** Logistic Regression on train_6.csv & d_6.csv **************************\n",
      "TF-IDF Vectorization-\n",
      "Train data dimensions: (9000, 19142)\n",
      "\n",
      "The Report for Logistic Regression Model is:- \n",
      "\n",
      "1) Training Data:\n"
     ]
    },
    {
     "data": {
      "image/png": "[encoded data removed]",
      "text/plain": [
       "<Figure size 288x216 with 2 Axes>"
      ]
     },
     "metadata": {
      "needs_background": "light"
     },
     "output_type": "display_data"
    },
    {
     "name": "stdout",
     "output_type": "stream",
     "text": [
      "              precision    recall  f1-score   support\n",
      "\n",
      "           0       0.98      0.99      0.98      1877\n",
      "           1       0.96      0.90      0.93      2183\n",
      "           2       0.96      0.98      0.97      4940\n",
      "\n",
      "    accuracy                           0.96      9000\n",
      "   macro avg       0.96      0.96      0.96      9000\n",
      "weighted avg       0.96      0.96      0.96      9000\n",
      "\n",
      "2) Test Data:\n"
     ]
    },
    {
     "data": {
      "image/png": "[encoded data removed]",
      "text/plain": [
       "<Figure size 288x216 with 2 Axes>"
      ]
     },
     "metadata": {
      "needs_background": "light"
     },
     "output_type": "display_data"
    },
    {
     "name": "stdout",
     "output_type": "stream",
     "text": [
      "              precision    recall  f1-score   support\n",
      "\n",
      "           0       0.91      0.87      0.89       215\n",
      "           1       0.74      0.58      0.65       239\n",
      "           2       0.82      0.91      0.86       546\n",
      "\n",
      "    accuracy                           0.82      1000\n",
      "   macro avg       0.82      0.79      0.80      1000\n",
      "weighted avg       0.82      0.82      0.82      1000\n",
      "\n",
      "3) Independent Test Data:\n"
     ]
    },
    {
     "data": {
      "image/png": "[encoded data removed]",
      "text/plain": [
       "<Figure size 288x216 with 2 Axes>"
      ]
     },
     "metadata": {
      "needs_background": "light"
     },
     "output_type": "display_data"
    },
    {
     "name": "stdout",
     "output_type": "stream",
     "text": [
      "              precision    recall  f1-score   support\n",
      "\n",
      "           0       0.88      0.84      0.86       523\n",
      "           1       0.66      0.55      0.60       580\n",
      "           2       0.79      0.87      0.83      1306\n",
      "\n",
      "    accuracy                           0.78      2409\n",
      "   macro avg       0.78      0.75      0.76      2409\n",
      "weighted avg       0.78      0.78      0.78      2409\n",
      "\n",
      "Accuracy Scores for Logistic Regression-\n",
      "1) Training Data        : 96.11111111111111\n",
      "2) Test Data            : 82.39999999999999\n",
      "3) Independent Test Data: 78.41427978414279\n",
      "\n",
      "F1 Scores for Logistic Regression-\n",
      "1) Training Data        : 96.0842160536849\n",
      "2) Test Data            : 81.86619982393877\n",
      "3) Independent Test Data: 77.97945257770776\n",
      "\n",
      "\n",
      "************************** Logistic Regression on train_7.csv & d_7.csv **************************\n",
      "TF-IDF Vectorization-\n",
      "Train data dimensions: (9000, 19001)\n",
      "\n",
      "The Report for Logistic Regression Model is:- \n",
      "\n",
      "1) Training Data:\n"
     ]
    },
    {
     "data": {
      "image/png": "[encoded data removed]",
      "text/plain": [
       "<Figure size 288x216 with 2 Axes>"
      ]
     },
     "metadata": {
      "needs_background": "light"
     },
     "output_type": "display_data"
    },
    {
     "name": "stdout",
     "output_type": "stream",
     "text": [
      "              precision    recall  f1-score   support\n",
      "\n",
      "           0       0.98      0.99      0.98      1882\n",
      "           1       0.96      0.90      0.93      2183\n",
      "           2       0.96      0.98      0.97      4935\n",
      "\n",
      "    accuracy                           0.96      9000\n",
      "   macro avg       0.97      0.96      0.96      9000\n",
      "weighted avg       0.96      0.96      0.96      9000\n",
      "\n",
      "2) Test Data:\n"
     ]
    },
    {
     "data": {
      "image/png": "[encoded data removed]",
      "text/plain": [
       "<Figure size 288x216 with 2 Axes>"
      ]
     },
     "metadata": {
      "needs_background": "light"
     },
     "output_type": "display_data"
    },
    {
     "name": "stdout",
     "output_type": "stream",
     "text": [
      "              precision    recall  f1-score   support\n",
      "\n",
      "           0       0.90      0.78      0.83       210\n",
      "           1       0.69      0.59      0.64       239\n",
      "           2       0.79      0.88      0.84       551\n",
      "\n",
      "    accuracy                           0.79      1000\n",
      "   macro avg       0.79      0.75      0.77      1000\n",
      "weighted avg       0.79      0.79      0.79      1000\n",
      "\n",
      "3) Independent Test Data:\n"
     ]
    },
    {
     "data": {
      "image/png": "[encoded data removed]",
      "text/plain": [
       "<Figure size 288x216 with 2 Axes>"
      ]
     },
     "metadata": {
      "needs_background": "light"
     },
     "output_type": "display_data"
    },
    {
     "name": "stdout",
     "output_type": "stream",
     "text": [
      "              precision    recall  f1-score   support\n",
      "\n",
      "           0       0.88      0.82      0.85       523\n",
      "           1       0.68      0.56      0.61       580\n",
      "           2       0.79      0.87      0.83      1306\n",
      "\n",
      "    accuracy                           0.78      2409\n",
      "   macro avg       0.78      0.75      0.76      2409\n",
      "weighted avg       0.78      0.78      0.78      2409\n",
      "\n",
      "Accuracy Scores for Logistic Regression-\n",
      "1) Training Data        : 96.25555555555556\n",
      "2) Test Data            : 79.10000000000001\n",
      "3) Independent Test Data: 78.49730178497302\n",
      "\n",
      "F1 Scores for Logistic Regression-\n",
      "1) Training Data        : 96.22582760429707\n",
      "2) Test Data            : 78.74471896785337\n",
      "3) Independent Test Data: 78.05012297956789\n",
      "\n",
      "\n",
      "************************** Logistic Regression on train_8.csv & d_8.csv **************************\n",
      "TF-IDF Vectorization-\n",
      "Train data dimensions: (9000, 19361)\n",
      "\n",
      "The Report for Logistic Regression Model is:- \n",
      "\n",
      "1) Training Data:\n"
     ]
    },
    {
     "data": {
      "image/png": "[encoded data removed]",
      "text/plain": [
       "<Figure size 288x216 with 2 Axes>"
      ]
     },
     "metadata": {
      "needs_background": "light"
     },
     "output_type": "display_data"
    },
    {
     "name": "stdout",
     "output_type": "stream",
     "text": [
      "              precision    recall  f1-score   support\n",
      "\n",
      "           0       0.98      0.99      0.98      1884\n",
      "           1       0.95      0.90      0.93      2174\n",
      "           2       0.96      0.98      0.97      4942\n",
      "\n",
      "    accuracy                           0.96      9000\n",
      "   macro avg       0.96      0.96      0.96      9000\n",
      "weighted avg       0.96      0.96      0.96      9000\n",
      "\n",
      "2) Test Data:\n"
     ]
    },
    {
     "data": {
      "image/png": "[encoded data removed]",
      "text/plain": [
       "<Figure size 288x216 with 2 Axes>"
      ]
     },
     "metadata": {
      "needs_background": "light"
     },
     "output_type": "display_data"
    },
    {
     "name": "stdout",
     "output_type": "stream",
     "text": [
      "              precision    recall  f1-score   support\n",
      "\n",
      "           0       0.89      0.87      0.88       208\n",
      "           1       0.70      0.58      0.63       248\n",
      "           2       0.80      0.88      0.84       544\n",
      "\n",
      "    accuracy                           0.80      1000\n",
      "   macro avg       0.80      0.77      0.78      1000\n",
      "weighted avg       0.80      0.80      0.79      1000\n",
      "\n",
      "3) Independent Test Data:\n"
     ]
    },
    {
     "data": {
      "image/png": "[encoded data removed]",
      "text/plain": [
       "<Figure size 288x216 with 2 Axes>"
      ]
     },
     "metadata": {
      "needs_background": "light"
     },
     "output_type": "display_data"
    },
    {
     "name": "stdout",
     "output_type": "stream",
     "text": [
      "              precision    recall  f1-score   support\n",
      "\n",
      "           0       0.87      0.84      0.85       523\n",
      "           1       0.68      0.58      0.62       580\n",
      "           2       0.80      0.86      0.83      1306\n",
      "\n",
      "    accuracy                           0.79      2409\n",
      "   macro avg       0.78      0.76      0.77      2409\n",
      "weighted avg       0.78      0.79      0.78      2409\n",
      "\n",
      "Accuracy Scores for Logistic Regression-\n",
      "1) Training Data        : 96.14444444444445\n",
      "2) Test Data            : 79.9\n",
      "3) Independent Test Data: 78.8293897882939\n",
      "\n",
      "F1 Scores for Logistic Regression-\n",
      "1) Training Data        : 96.11921465364563\n",
      "2) Test Data            : 79.46406163167345\n",
      "3) Independent Test Data: 78.4767002129193\n",
      "\n",
      "\n",
      "************************** Logistic Regression on train_9.csv & d_9.csv **************************\n",
      "TF-IDF Vectorization-\n",
      "Train data dimensions: (9000, 19373)\n",
      "\n",
      "The Report for Logistic Regression Model is:- \n",
      "\n",
      "1) Training Data:\n"
     ]
    },
    {
     "data": {
      "image/png": "[encoded data removed]",
      "text/plain": [
       "<Figure size 288x216 with 2 Axes>"
      ]
     },
     "metadata": {
      "needs_background": "light"
     },
     "output_type": "display_data"
    },
    {
     "name": "stdout",
     "output_type": "stream",
     "text": [
      "              precision    recall  f1-score   support\n",
      "\n",
      "           0       0.98      0.99      0.99      1890\n",
      "           1       0.96      0.91      0.93      2180\n",
      "           2       0.96      0.98      0.97      4930\n",
      "\n",
      "    accuracy                           0.96      9000\n",
      "   macro avg       0.97      0.96      0.96      9000\n",
      "weighted avg       0.96      0.96      0.96      9000\n",
      "\n",
      "2) Test Data:\n"
     ]
    },
    {
     "data": {
      "image/png": "[encoded data removed]",
      "text/plain": [
       "<Figure size 288x216 with 2 Axes>"
      ]
     },
     "metadata": {
      "needs_background": "light"
     },
     "output_type": "display_data"
    },
    {
     "name": "stdout",
     "output_type": "stream",
     "text": [
      "              precision    recall  f1-score   support\n",
      "\n",
      "           0       0.86      0.78      0.82       202\n",
      "           1       0.66      0.56      0.60       242\n",
      "           2       0.79      0.87      0.83       556\n",
      "\n",
      "    accuracy                           0.78      1000\n",
      "   macro avg       0.77      0.74      0.75      1000\n",
      "weighted avg       0.77      0.78      0.77      1000\n",
      "\n",
      "3) Independent Test Data:\n"
     ]
    },
    {
     "data": {
      "image/png": "[encoded data removed]",
      "text/plain": [
       "<Figure size 288x216 with 2 Axes>"
      ]
     },
     "metadata": {
      "needs_background": "light"
     },
     "output_type": "display_data"
    },
    {
     "name": "stdout",
     "output_type": "stream",
     "text": [
      "              precision    recall  f1-score   support\n",
      "\n",
      "           0       0.88      0.83      0.86       523\n",
      "           1       0.69      0.57      0.63       580\n",
      "           2       0.80      0.88      0.83      1306\n",
      "\n",
      "    accuracy                           0.79      2409\n",
      "   macro avg       0.79      0.76      0.77      2409\n",
      "weighted avg       0.79      0.79      0.79      2409\n",
      "\n",
      "Accuracy Scores for Logistic Regression-\n",
      "1) Training Data        : 96.38888888888889\n",
      "2) Test Data            : 77.5\n",
      "3) Independent Test Data: 79.28601079286011\n",
      "\n",
      "F1 Scores for Logistic Regression-\n",
      "1) Training Data        : 96.36275589483662\n",
      "2) Test Data            : 77.08936199505354\n",
      "3) Independent Test Data: 78.8703541591105\n",
      "\n",
      "\n",
      "************************** Logistic Regression on train_10.csv & d_10.csv **************************\n",
      "TF-IDF Vectorization-\n",
      "Train data dimensions: (9000, 19355)\n",
      "\n",
      "The Report for Logistic Regression Model is:- \n",
      "\n",
      "1) Training Data:\n"
     ]
    },
    {
     "data": {
      "image/png": "[encoded data removed]",
      "text/plain": [
       "<Figure size 288x216 with 2 Axes>"
      ]
     },
     "metadata": {
      "needs_background": "light"
     },
     "output_type": "display_data"
    },
    {
     "name": "stdout",
     "output_type": "stream",
     "text": [
      "              precision    recall  f1-score   support\n",
      "\n",
      "           0       0.98      0.99      0.99      1885\n",
      "           1       0.96      0.91      0.93      2175\n",
      "           2       0.96      0.98      0.97      4940\n",
      "\n",
      "    accuracy                           0.96      9000\n",
      "   macro avg       0.97      0.96      0.96      9000\n",
      "weighted avg       0.96      0.96      0.96      9000\n",
      "\n",
      "2) Test Data:\n"
     ]
    },
    {
     "data": {
      "image/png": "[encoded data removed]",
      "text/plain": [
       "<Figure size 288x216 with 2 Axes>"
      ]
     },
     "metadata": {
      "needs_background": "light"
     },
     "output_type": "display_data"
    },
    {
     "name": "stdout",
     "output_type": "stream",
     "text": [
      "              precision    recall  f1-score   support\n",
      "\n",
      "           0       0.89      0.86      0.87       207\n",
      "           1       0.70      0.57      0.63       247\n",
      "           2       0.80      0.88      0.84       546\n",
      "\n",
      "    accuracy                           0.80      1000\n",
      "   macro avg       0.80      0.77      0.78      1000\n",
      "weighted avg       0.79      0.80      0.79      1000\n",
      "\n",
      "3) Independent Test Data:\n"
     ]
    },
    {
     "data": {
      "image/png": "[encoded data removed]",
      "text/plain": [
       "<Figure size 288x216 with 2 Axes>"
      ]
     },
     "metadata": {
      "needs_background": "light"
     },
     "output_type": "display_data"
    },
    {
     "name": "stdout",
     "output_type": "stream",
     "text": [
      "              precision    recall  f1-score   support\n",
      "\n",
      "           0       0.89      0.84      0.86       523\n",
      "           1       0.66      0.56      0.61       580\n",
      "           2       0.79      0.87      0.83      1306\n",
      "\n",
      "    accuracy                           0.79      2409\n",
      "   macro avg       0.78      0.75      0.77      2409\n",
      "weighted avg       0.78      0.79      0.78      2409\n",
      "\n",
      "Accuracy Scores for Logistic Regression-\n",
      "1) Training Data        : 96.44444444444444\n",
      "2) Test Data            : 79.80000000000001\n",
      "3) Independent Test Data: 78.58032378580324\n",
      "\n",
      "F1 Scores for Logistic Regression-\n",
      "1) Training Data        : 96.41779915544373\n",
      "2) Test Data            : 79.35738953561575\n",
      "3) Independent Test Data: 78.18861745457434\n",
      "\n"
     ]
    },
    {
     "data": {
      "text/html": [
       "<div>\n",
       "<style scoped>\n",
       "    .dataframe tbody tr th:only-of-type {\n",
       "        vertical-align: middle;\n",
       "    }\n",
       "\n",
       "    .dataframe tbody tr th {\n",
       "        vertical-align: top;\n",
       "    }\n",
       "\n",
       "    .dataframe thead tr th {\n",
       "        text-align: left;\n",
       "    }\n",
       "</style>\n",
       "<table border=\"1\" class=\"dataframe\">\n",
       "  <thead>\n",
       "    <tr>\n",
       "      <th></th>\n",
       "      <th colspan=\"5\" halign=\"left\">Training Data</th>\n",
       "      <th colspan=\"5\" halign=\"left\">Testing Data</th>\n",
       "      <th colspan=\"5\" halign=\"left\">Independent Test Data</th>\n",
       "    </tr>\n",
       "    <tr>\n",
       "      <th></th>\n",
       "      <th>GO</th>\n",
       "      <th>UA</th>\n",
       "      <th>UC</th>\n",
       "      <th>Total F1</th>\n",
       "      <th>Accuracy</th>\n",
       "      <th>GO</th>\n",
       "      <th>UA</th>\n",
       "      <th>UC</th>\n",
       "      <th>Total F1</th>\n",
       "      <th>Accuracy</th>\n",
       "      <th>GO</th>\n",
       "      <th>UA</th>\n",
       "      <th>UC</th>\n",
       "      <th>Total F1</th>\n",
       "      <th>Accuracy</th>\n",
       "    </tr>\n",
       "  </thead>\n",
       "  <tbody>\n",
       "    <tr>\n",
       "      <th>Split 1</th>\n",
       "      <td>0.984648</td>\n",
       "      <td>0.929160</td>\n",
       "      <td>0.968014</td>\n",
       "      <td>0.962066</td>\n",
       "      <td>0.962333</td>\n",
       "      <td>0.840796</td>\n",
       "      <td>0.676660</td>\n",
       "      <td>0.848806</td>\n",
       "      <td>0.805973</td>\n",
       "      <td>0.807</td>\n",
       "      <td>0.859941</td>\n",
       "      <td>0.618692</td>\n",
       "      <td>0.826549</td>\n",
       "      <td>0.783754</td>\n",
       "      <td>0.787464</td>\n",
       "    </tr>\n",
       "    <tr>\n",
       "      <th>Split 2</th>\n",
       "      <td>0.984119</td>\n",
       "      <td>0.929551</td>\n",
       "      <td>0.967974</td>\n",
       "      <td>0.962041</td>\n",
       "      <td>0.962333</td>\n",
       "      <td>0.861386</td>\n",
       "      <td>0.662222</td>\n",
       "      <td>0.842932</td>\n",
       "      <td>0.803238</td>\n",
       "      <td>0.806</td>\n",
       "      <td>0.854065</td>\n",
       "      <td>0.608696</td>\n",
       "      <td>0.828039</td>\n",
       "      <td>0.780880</td>\n",
       "      <td>0.785388</td>\n",
       "    </tr>\n",
       "    <tr>\n",
       "      <th>Split 3</th>\n",
       "      <td>0.984119</td>\n",
       "      <td>0.927174</td>\n",
       "      <td>0.967031</td>\n",
       "      <td>0.960919</td>\n",
       "      <td>0.961222</td>\n",
       "      <td>0.874396</td>\n",
       "      <td>0.674107</td>\n",
       "      <td>0.857645</td>\n",
       "      <td>0.818031</td>\n",
       "      <td>0.820</td>\n",
       "      <td>0.853778</td>\n",
       "      <td>0.607310</td>\n",
       "      <td>0.828697</td>\n",
       "      <td>0.780840</td>\n",
       "      <td>0.784973</td>\n",
       "    </tr>\n",
       "    <tr>\n",
       "      <th>Split 4</th>\n",
       "      <td>0.985960</td>\n",
       "      <td>0.923478</td>\n",
       "      <td>0.966014</td>\n",
       "      <td>0.959875</td>\n",
       "      <td>0.960222</td>\n",
       "      <td>0.840580</td>\n",
       "      <td>0.685106</td>\n",
       "      <td>0.835125</td>\n",
       "      <td>0.800122</td>\n",
       "      <td>0.801</td>\n",
       "      <td>0.859100</td>\n",
       "      <td>0.633829</td>\n",
       "      <td>0.829412</td>\n",
       "      <td>0.788768</td>\n",
       "      <td>0.792030</td>\n",
       "    </tr>\n",
       "    <tr>\n",
       "      <th>Split 5</th>\n",
       "      <td>0.984664</td>\n",
       "      <td>0.927234</td>\n",
       "      <td>0.967497</td>\n",
       "      <td>0.961376</td>\n",
       "      <td>0.961667</td>\n",
       "      <td>0.881356</td>\n",
       "      <td>0.632517</td>\n",
       "      <td>0.831283</td>\n",
       "      <td>0.791858</td>\n",
       "      <td>0.797</td>\n",
       "      <td>0.858801</td>\n",
       "      <td>0.619318</td>\n",
       "      <td>0.829912</td>\n",
       "      <td>0.785480</td>\n",
       "      <td>0.789954</td>\n",
       "    </tr>\n",
       "    <tr>\n",
       "      <th>Split 6</th>\n",
       "      <td>0.982727</td>\n",
       "      <td>0.928588</td>\n",
       "      <td>0.966780</td>\n",
       "      <td>0.960842</td>\n",
       "      <td>0.961111</td>\n",
       "      <td>0.888361</td>\n",
       "      <td>0.651054</td>\n",
       "      <td>0.864583</td>\n",
       "      <td>0.818662</td>\n",
       "      <td>0.824</td>\n",
       "      <td>0.860511</td>\n",
       "      <td>0.599624</td>\n",
       "      <td>0.827485</td>\n",
       "      <td>0.779795</td>\n",
       "      <td>0.784143</td>\n",
       "    </tr>\n",
       "    <tr>\n",
       "      <th>Split 7</th>\n",
       "      <td>0.984656</td>\n",
       "      <td>0.929617</td>\n",
       "      <td>0.968155</td>\n",
       "      <td>0.962258</td>\n",
       "      <td>0.962556</td>\n",
       "      <td>0.831633</td>\n",
       "      <td>0.636569</td>\n",
       "      <td>0.836052</td>\n",
       "      <td>0.787447</td>\n",
       "      <td>0.791</td>\n",
       "      <td>0.846989</td>\n",
       "      <td>0.613056</td>\n",
       "      <td>0.828239</td>\n",
       "      <td>0.780501</td>\n",
       "      <td>0.784973</td>\n",
       "    </tr>\n",
       "    <tr>\n",
       "      <th>Split 8</th>\n",
       "      <td>0.983572</td>\n",
       "      <td>0.928200</td>\n",
       "      <td>0.967174</td>\n",
       "      <td>0.961192</td>\n",
       "      <td>0.961444</td>\n",
       "      <td>0.878049</td>\n",
       "      <td>0.632743</td>\n",
       "      <td>0.836555</td>\n",
       "      <td>0.794641</td>\n",
       "      <td>0.799</td>\n",
       "      <td>0.854350</td>\n",
       "      <td>0.623836</td>\n",
       "      <td>0.828372</td>\n",
       "      <td>0.784767</td>\n",
       "      <td>0.788294</td>\n",
       "    </tr>\n",
       "    <tr>\n",
       "      <th>Split 9</th>\n",
       "      <td>0.985224</td>\n",
       "      <td>0.932483</td>\n",
       "      <td>0.969120</td>\n",
       "      <td>0.963628</td>\n",
       "      <td>0.963889</td>\n",
       "      <td>0.818653</td>\n",
       "      <td>0.602679</td>\n",
       "      <td>0.826758</td>\n",
       "      <td>0.770894</td>\n",
       "      <td>0.775</td>\n",
       "      <td>0.855457</td>\n",
       "      <td>0.625825</td>\n",
       "      <td>0.834307</td>\n",
       "      <td>0.788704</td>\n",
       "      <td>0.792860</td>\n",
       "    </tr>\n",
       "    <tr>\n",
       "      <th>Split 10</th>\n",
       "      <td>0.986526</td>\n",
       "      <td>0.933460</td>\n",
       "      <td>0.969175</td>\n",
       "      <td>0.964178</td>\n",
       "      <td>0.964444</td>\n",
       "      <td>0.872549</td>\n",
       "      <td>0.631111</td>\n",
       "      <td>0.837128</td>\n",
       "      <td>0.793574</td>\n",
       "      <td>0.798</td>\n",
       "      <td>0.863636</td>\n",
       "      <td>0.606174</td>\n",
       "      <td>0.827183</td>\n",
       "      <td>0.781886</td>\n",
       "      <td>0.785803</td>\n",
       "    </tr>\n",
       "  </tbody>\n",
       "</table>\n",
       "</div>"
      ],
      "text/plain": [
       "         Training Data                                         Testing Data  \\\n",
       "                    GO        UA        UC  Total F1  Accuracy           GO   \n",
       "Split 1       0.984648  0.929160  0.968014  0.962066  0.962333     0.840796   \n",
       "Split 2       0.984119  0.929551  0.967974  0.962041  0.962333     0.861386   \n",
       "Split 3       0.984119  0.927174  0.967031  0.960919  0.961222     0.874396   \n",
       "Split 4       0.985960  0.923478  0.966014  0.959875  0.960222     0.840580   \n",
       "Split 5       0.984664  0.927234  0.967497  0.961376  0.961667     0.881356   \n",
       "Split 6       0.982727  0.928588  0.966780  0.960842  0.961111     0.888361   \n",
       "Split 7       0.984656  0.929617  0.968155  0.962258  0.962556     0.831633   \n",
       "Split 8       0.983572  0.928200  0.967174  0.961192  0.961444     0.878049   \n",
       "Split 9       0.985224  0.932483  0.969120  0.963628  0.963889     0.818653   \n",
       "Split 10      0.986526  0.933460  0.969175  0.964178  0.964444     0.872549   \n",
       "\n",
       "                                                Independent Test Data  \\\n",
       "                UA        UC  Total F1 Accuracy                    GO   \n",
       "Split 1   0.676660  0.848806  0.805973    0.807              0.859941   \n",
       "Split 2   0.662222  0.842932  0.803238    0.806              0.854065   \n",
       "Split 3   0.674107  0.857645  0.818031    0.820              0.853778   \n",
       "Split 4   0.685106  0.835125  0.800122    0.801              0.859100   \n",
       "Split 5   0.632517  0.831283  0.791858    0.797              0.858801   \n",
       "Split 6   0.651054  0.864583  0.818662    0.824              0.860511   \n",
       "Split 7   0.636569  0.836052  0.787447    0.791              0.846989   \n",
       "Split 8   0.632743  0.836555  0.794641    0.799              0.854350   \n",
       "Split 9   0.602679  0.826758  0.770894    0.775              0.855457   \n",
       "Split 10  0.631111  0.837128  0.793574    0.798              0.863636   \n",
       "\n",
       "                                                  \n",
       "                UA        UC  Total F1  Accuracy  \n",
       "Split 1   0.618692  0.826549  0.783754  0.787464  \n",
       "Split 2   0.608696  0.828039  0.780880  0.785388  \n",
       "Split 3   0.607310  0.828697  0.780840  0.784973  \n",
       "Split 4   0.633829  0.829412  0.788768  0.792030  \n",
       "Split 5   0.619318  0.829912  0.785480  0.789954  \n",
       "Split 6   0.599624  0.827485  0.779795  0.784143  \n",
       "Split 7   0.613056  0.828239  0.780501  0.784973  \n",
       "Split 8   0.623836  0.828372  0.784767  0.788294  \n",
       "Split 9   0.625825  0.834307  0.788704  0.792860  \n",
       "Split 10  0.606174  0.827183  0.781886  0.785803  "
      ]
     },
     "execution_count": 8,
     "metadata": {},
     "output_type": "execute_result"
    }
   ],
   "source": [
    "# Logistic Regression Iterations on all 10 dataset splits\n",
    "for i in range(1, 11):\n",
    "    tr = 'train_'+str(i)+'.csv'\n",
    "    ts = 'd_'+str(i)+'.csv'\n",
    "    print()\n",
    "    print('************************** Logistic Regression on {} & {} **************************'.format(tr, ts))\n",
    "    LR(tr, ts, rdf, i)\n",
    "    print()\n",
    "  \n",
    "rdf"
   ]
  },
  {
   "cell_type": "code",
   "execution_count": 9,
   "metadata": {
    "colab": {
     "base_uri": "https://localhost:8080/",
     "height": 388
    },
    "id": "JrhWQqIwusPa",
    "outputId": "5b723613-ad56-4e4e-9af3-e27f26a84c0d"
   },
   "outputs": [
    {
     "data": {
      "text/html": [
       "<div>\n",
       "<style scoped>\n",
       "    .dataframe tbody tr th:only-of-type {\n",
       "        vertical-align: middle;\n",
       "    }\n",
       "\n",
       "    .dataframe tbody tr th {\n",
       "        vertical-align: top;\n",
       "    }\n",
       "\n",
       "    .dataframe thead tr th {\n",
       "        text-align: left;\n",
       "    }\n",
       "</style>\n",
       "<table border=\"1\" class=\"dataframe\">\n",
       "  <thead>\n",
       "    <tr>\n",
       "      <th></th>\n",
       "      <th colspan=\"5\" halign=\"left\">Training Data</th>\n",
       "      <th colspan=\"5\" halign=\"left\">Testing Data</th>\n",
       "      <th colspan=\"5\" halign=\"left\">Independent Test Data</th>\n",
       "    </tr>\n",
       "    <tr>\n",
       "      <th></th>\n",
       "      <th>GO</th>\n",
       "      <th>UA</th>\n",
       "      <th>UC</th>\n",
       "      <th>Total F1</th>\n",
       "      <th>Accuracy</th>\n",
       "      <th>GO</th>\n",
       "      <th>UA</th>\n",
       "      <th>UC</th>\n",
       "      <th>Total F1</th>\n",
       "      <th>Accuracy</th>\n",
       "      <th>GO</th>\n",
       "      <th>UA</th>\n",
       "      <th>UC</th>\n",
       "      <th>Total F1</th>\n",
       "      <th>Accuracy</th>\n",
       "    </tr>\n",
       "  </thead>\n",
       "  <tbody>\n",
       "    <tr>\n",
       "      <th>Split 1</th>\n",
       "      <td>0.984648</td>\n",
       "      <td>0.929160</td>\n",
       "      <td>0.968014</td>\n",
       "      <td>0.962066</td>\n",
       "      <td>0.962333</td>\n",
       "      <td>0.840796</td>\n",
       "      <td>0.676660</td>\n",
       "      <td>0.848806</td>\n",
       "      <td>0.805973</td>\n",
       "      <td>0.807</td>\n",
       "      <td>0.859941</td>\n",
       "      <td>0.618692</td>\n",
       "      <td>0.826549</td>\n",
       "      <td>0.783754</td>\n",
       "      <td>0.787464</td>\n",
       "    </tr>\n",
       "    <tr>\n",
       "      <th>Split 2</th>\n",
       "      <td>0.984119</td>\n",
       "      <td>0.929551</td>\n",
       "      <td>0.967974</td>\n",
       "      <td>0.962041</td>\n",
       "      <td>0.962333</td>\n",
       "      <td>0.861386</td>\n",
       "      <td>0.662222</td>\n",
       "      <td>0.842932</td>\n",
       "      <td>0.803238</td>\n",
       "      <td>0.806</td>\n",
       "      <td>0.854065</td>\n",
       "      <td>0.608696</td>\n",
       "      <td>0.828039</td>\n",
       "      <td>0.780880</td>\n",
       "      <td>0.785388</td>\n",
       "    </tr>\n",
       "    <tr>\n",
       "      <th>Split 3</th>\n",
       "      <td>0.984119</td>\n",
       "      <td>0.927174</td>\n",
       "      <td>0.967031</td>\n",
       "      <td>0.960919</td>\n",
       "      <td>0.961222</td>\n",
       "      <td>0.874396</td>\n",
       "      <td>0.674107</td>\n",
       "      <td>0.857645</td>\n",
       "      <td>0.818031</td>\n",
       "      <td>0.820</td>\n",
       "      <td>0.853778</td>\n",
       "      <td>0.607310</td>\n",
       "      <td>0.828697</td>\n",
       "      <td>0.780840</td>\n",
       "      <td>0.784973</td>\n",
       "    </tr>\n",
       "    <tr>\n",
       "      <th>Split 4</th>\n",
       "      <td>0.985960</td>\n",
       "      <td>0.923478</td>\n",
       "      <td>0.966014</td>\n",
       "      <td>0.959875</td>\n",
       "      <td>0.960222</td>\n",
       "      <td>0.840580</td>\n",
       "      <td>0.685106</td>\n",
       "      <td>0.835125</td>\n",
       "      <td>0.800122</td>\n",
       "      <td>0.801</td>\n",
       "      <td>0.859100</td>\n",
       "      <td>0.633829</td>\n",
       "      <td>0.829412</td>\n",
       "      <td>0.788768</td>\n",
       "      <td>0.792030</td>\n",
       "    </tr>\n",
       "    <tr>\n",
       "      <th>Split 5</th>\n",
       "      <td>0.984664</td>\n",
       "      <td>0.927234</td>\n",
       "      <td>0.967497</td>\n",
       "      <td>0.961376</td>\n",
       "      <td>0.961667</td>\n",
       "      <td>0.881356</td>\n",
       "      <td>0.632517</td>\n",
       "      <td>0.831283</td>\n",
       "      <td>0.791858</td>\n",
       "      <td>0.797</td>\n",
       "      <td>0.858801</td>\n",
       "      <td>0.619318</td>\n",
       "      <td>0.829912</td>\n",
       "      <td>0.785480</td>\n",
       "      <td>0.789954</td>\n",
       "    </tr>\n",
       "    <tr>\n",
       "      <th>Split 6</th>\n",
       "      <td>0.982727</td>\n",
       "      <td>0.928588</td>\n",
       "      <td>0.966780</td>\n",
       "      <td>0.960842</td>\n",
       "      <td>0.961111</td>\n",
       "      <td>0.888361</td>\n",
       "      <td>0.651054</td>\n",
       "      <td>0.864583</td>\n",
       "      <td>0.818662</td>\n",
       "      <td>0.824</td>\n",
       "      <td>0.860511</td>\n",
       "      <td>0.599624</td>\n",
       "      <td>0.827485</td>\n",
       "      <td>0.779795</td>\n",
       "      <td>0.784143</td>\n",
       "    </tr>\n",
       "    <tr>\n",
       "      <th>Split 7</th>\n",
       "      <td>0.984656</td>\n",
       "      <td>0.929617</td>\n",
       "      <td>0.968155</td>\n",
       "      <td>0.962258</td>\n",
       "      <td>0.962556</td>\n",
       "      <td>0.831633</td>\n",
       "      <td>0.636569</td>\n",
       "      <td>0.836052</td>\n",
       "      <td>0.787447</td>\n",
       "      <td>0.791</td>\n",
       "      <td>0.846989</td>\n",
       "      <td>0.613056</td>\n",
       "      <td>0.828239</td>\n",
       "      <td>0.780501</td>\n",
       "      <td>0.784973</td>\n",
       "    </tr>\n",
       "    <tr>\n",
       "      <th>Split 8</th>\n",
       "      <td>0.983572</td>\n",
       "      <td>0.928200</td>\n",
       "      <td>0.967174</td>\n",
       "      <td>0.961192</td>\n",
       "      <td>0.961444</td>\n",
       "      <td>0.878049</td>\n",
       "      <td>0.632743</td>\n",
       "      <td>0.836555</td>\n",
       "      <td>0.794641</td>\n",
       "      <td>0.799</td>\n",
       "      <td>0.854350</td>\n",
       "      <td>0.623836</td>\n",
       "      <td>0.828372</td>\n",
       "      <td>0.784767</td>\n",
       "      <td>0.788294</td>\n",
       "    </tr>\n",
       "    <tr>\n",
       "      <th>Split 9</th>\n",
       "      <td>0.985224</td>\n",
       "      <td>0.932483</td>\n",
       "      <td>0.969120</td>\n",
       "      <td>0.963628</td>\n",
       "      <td>0.963889</td>\n",
       "      <td>0.818653</td>\n",
       "      <td>0.602679</td>\n",
       "      <td>0.826758</td>\n",
       "      <td>0.770894</td>\n",
       "      <td>0.775</td>\n",
       "      <td>0.855457</td>\n",
       "      <td>0.625825</td>\n",
       "      <td>0.834307</td>\n",
       "      <td>0.788704</td>\n",
       "      <td>0.792860</td>\n",
       "    </tr>\n",
       "    <tr>\n",
       "      <th>Split 10</th>\n",
       "      <td>0.986526</td>\n",
       "      <td>0.933460</td>\n",
       "      <td>0.969175</td>\n",
       "      <td>0.964178</td>\n",
       "      <td>0.964444</td>\n",
       "      <td>0.872549</td>\n",
       "      <td>0.631111</td>\n",
       "      <td>0.837128</td>\n",
       "      <td>0.793574</td>\n",
       "      <td>0.798</td>\n",
       "      <td>0.863636</td>\n",
       "      <td>0.606174</td>\n",
       "      <td>0.827183</td>\n",
       "      <td>0.781886</td>\n",
       "      <td>0.785803</td>\n",
       "    </tr>\n",
       "  </tbody>\n",
       "</table>\n",
       "</div>"
      ],
      "text/plain": [
       "         Training Data                                         Testing Data  \\\n",
       "                    GO        UA        UC  Total F1  Accuracy           GO   \n",
       "Split 1       0.984648  0.929160  0.968014  0.962066  0.962333     0.840796   \n",
       "Split 2       0.984119  0.929551  0.967974  0.962041  0.962333     0.861386   \n",
       "Split 3       0.984119  0.927174  0.967031  0.960919  0.961222     0.874396   \n",
       "Split 4       0.985960  0.923478  0.966014  0.959875  0.960222     0.840580   \n",
       "Split 5       0.984664  0.927234  0.967497  0.961376  0.961667     0.881356   \n",
       "Split 6       0.982727  0.928588  0.966780  0.960842  0.961111     0.888361   \n",
       "Split 7       0.984656  0.929617  0.968155  0.962258  0.962556     0.831633   \n",
       "Split 8       0.983572  0.928200  0.967174  0.961192  0.961444     0.878049   \n",
       "Split 9       0.985224  0.932483  0.969120  0.963628  0.963889     0.818653   \n",
       "Split 10      0.986526  0.933460  0.969175  0.964178  0.964444     0.872549   \n",
       "\n",
       "                                                Independent Test Data  \\\n",
       "                UA        UC  Total F1 Accuracy                    GO   \n",
       "Split 1   0.676660  0.848806  0.805973    0.807              0.859941   \n",
       "Split 2   0.662222  0.842932  0.803238    0.806              0.854065   \n",
       "Split 3   0.674107  0.857645  0.818031    0.820              0.853778   \n",
       "Split 4   0.685106  0.835125  0.800122    0.801              0.859100   \n",
       "Split 5   0.632517  0.831283  0.791858    0.797              0.858801   \n",
       "Split 6   0.651054  0.864583  0.818662    0.824              0.860511   \n",
       "Split 7   0.636569  0.836052  0.787447    0.791              0.846989   \n",
       "Split 8   0.632743  0.836555  0.794641    0.799              0.854350   \n",
       "Split 9   0.602679  0.826758  0.770894    0.775              0.855457   \n",
       "Split 10  0.631111  0.837128  0.793574    0.798              0.863636   \n",
       "\n",
       "                                                  \n",
       "                UA        UC  Total F1  Accuracy  \n",
       "Split 1   0.618692  0.826549  0.783754  0.787464  \n",
       "Split 2   0.608696  0.828039  0.780880  0.785388  \n",
       "Split 3   0.607310  0.828697  0.780840  0.784973  \n",
       "Split 4   0.633829  0.829412  0.788768  0.792030  \n",
       "Split 5   0.619318  0.829912  0.785480  0.789954  \n",
       "Split 6   0.599624  0.827485  0.779795  0.784143  \n",
       "Split 7   0.613056  0.828239  0.780501  0.784973  \n",
       "Split 8   0.623836  0.828372  0.784767  0.788294  \n",
       "Split 9   0.625825  0.834307  0.788704  0.792860  \n",
       "Split 10  0.606174  0.827183  0.781886  0.785803  "
      ]
     },
     "execution_count": 9,
     "metadata": {},
     "output_type": "execute_result"
    }
   ],
   "source": [
    "# Final Results for each of the 10 splits\n",
    "rdf"
   ]
  },
  {
   "cell_type": "markdown",
   "metadata": {
    "id": "aornLmvevsU8"
   },
   "source": [
    "### 1.1) Sensitivity Analysis"
   ]
  },
  {
   "cell_type": "code",
   "execution_count": 13,
   "metadata": {
    "id": "OihRaqolBRrZ"
   },
   "outputs": [],
   "source": [
    "def LRSA(tr, ts, parameters):    \n",
    "    # Import Train and Test data\n",
    "    train_data = pd.read_csv(tr)\n",
    "    test_data = pd.read_csv(ts)\n",
    "    \n",
    "    # TF-IDF Vectorizer for 'OBS(mist-free)-2' text column in Train data\n",
    "    vectorizer = TfidfVectorizer(min_df= 2, sublinear_tf=True, norm='l2', ngram_range=(1, 3))\n",
    "    final_features = vectorizer.fit_transform(train_data['OBS(mist-free)-2']).toarray()\n",
    "    \n",
    "    # Train data-\n",
    "    X_train = train_data['OBS(mist-free)-2']\n",
    "    y_train = train_data['Category-encoded-2']\n",
    "    \n",
    "    # Test data-\n",
    "    X_test = test_data['OBS(mist-free)-2']\n",
    "    y_test = test_data['Category-encoded-2']\n",
    "    \n",
    "    # Logistic Regression Pipeline\n",
    "    LRPipeline = Pipeline([('vect', vectorizer),\n",
    "                     ('clf', LogisticRegression(C= 1.0, class_weight= None, dual= False, fit_intercept= True,\n",
    "                              intercept_scaling= 1, l1_ratio= None, multi_class= 'auto',\n",
    "                              n_jobs= None, penalty= 'l2', random_state=6, solver='saga', max_iter=1000))])\n",
    "\n",
    "    model = LRPipeline.fit(X_train, y_train)\n",
    "    y_test = np.array(y_test)\n",
    "    \n",
    "    # Sensitivity Analysis\n",
    "    gridlr_solver = GridSearchCV(LRPipeline, param_grid=parameters,cv=3, n_jobs=3, refit=True)\n",
    "    gridlr_solver.fit(X_train, y_train)\n",
    "    # gridlr_solver_df = pd.DataFrame(gridlr_solver.cv_results_)\n",
    "    # gridlr_solver_df.head\n",
    "    gridlr_solver_predictions = gridlr_solver.predict(X_test)\n",
    "    print(classification_report(y_test, gridlr_solver_predictions))\n",
    "    print('Best Parameter- ',gridlr_solver.best_params_)\n",
    "    print()"
   ]
  },
  {
   "cell_type": "code",
   "execution_count": 14,
   "metadata": {
    "id": "76ZwchQNBRra"
   },
   "outputs": [],
   "source": [
    "# Defining Parameters values for Sensitivity Analysis\n",
    "parameters = {'vect__ngram_range': [(1, 1), (1, 2), (1, 3)],\n",
    "              'clf__solver': ['newton-cg', 'lbfgs', 'liblinear', 'sag', 'saga'],\n",
    "              'clf__C': [0.0001,0.001,0.01,0.1,1,10,100,1000],\n",
    "              'clf__max_iter': [100, 200, 300, 400, 500, 600, 700, 800, 900],\n",
    "             }"
   ]
  },
  {
   "cell_type": "code",
   "execution_count": null,
   "metadata": {
    "id": "k6AXC9PRBRrb",
    "outputId": "bac8dce9-d089-433f-aba6-4f68c454593d"
   },
   "outputs": [],
   "source": [
    "# Sensitivity Analysis Iterations on all 10 dataset splits\n",
    "for i in range(1, 11):\n",
    "    tr = 'train_'+str(i)+'.csv'\n",
    "    ts = 'd_'+str(i)+'.csv'\n",
    "    print()\n",
    "    print('************************** LR Sensitivity Analysis with {} & {} **************************'.format(tr, ts))\n",
    "    LRSA(tr, ts, parameters)"
   ]
  },
  {
   "cell_type": "markdown",
   "metadata": {
    "id": "3J3bvdCj8d4v"
   },
   "source": [
    "              precision    recall  f1-score   support\n",
    "\n",
    "           0       0.88      0.80      0.84       211\n",
    "           1       0.69      0.66      0.68       239\n",
    "           2       0.83      0.87      0.85       550\n",
    "\n",
    "    accuracy                           0.81      1000\n",
    "    macro avg       0.80      0.78      0.79      1000\n",
    "    weighted avg       0.81      0.81      0.81      1000\n",
    "\n",
    "Best Parameter- 'clf__C': 10, 'clf__max_iter': 100, 'clf__solver': 'liblinear', 'vect__ngram_range': (1, 3)}\n"
   ]
  },
  {
   "cell_type": "markdown",
   "metadata": {
    "id": "UxAklMfI1t5B"
   },
   "source": [
    "### 1.2) Parametric Sensitivity Analysis"
   ]
  },
  {
   "cell_type": "code",
   "execution_count": 122,
   "metadata": {
    "id": "lGtzCa8AzhxH"
   },
   "outputs": [],
   "source": [
    "def LRSAF(tr, ts, rdf, cols, p):\n",
    "    # Import Train and Test data\n",
    "    train_data = pd.read_csv(tr)\n",
    "    test_data = pd.read_csv(ts)\n",
    "    \n",
    "    # TF-IDF Vectorizer for 'OBS(mist-free)-2' text column in Train data\n",
    "    vectorizer = TfidfVectorizer(min_df= 2, sublinear_tf=True, norm='l2', ngram_range=(1, 3))\n",
    "    final_features = vectorizer.fit_transform(train_data['OBS(mist-free)-2']).toarray()\n",
    "    print('TF-IDF Vectorization-')\n",
    "    print('Train data dimensions:', final_features.shape)\n",
    "    print()\n",
    "    \n",
    "    # Train data-\n",
    "    X_train = train_data['OBS(mist-free)-2']\n",
    "    y_train = train_data['Category-encoded-2']\n",
    "    \n",
    "    # Test data-\n",
    "    X_test = test_data['OBS(mist-free)-2']\n",
    "    y_test = test_data['Category-encoded-2']\n",
    "    \n",
    "    # Logistic Regression Pipeline\n",
    "    for j in cols:\n",
    "      if p == 'solver':\n",
    "        LRPipeline = Pipeline([('vect', vectorizer),\n",
    "                        ('clf', LogisticRegression(C= 10, class_weight= None, dual= False, fit_intercept= True,\n",
    "                                  intercept_scaling= 1, l1_ratio= None, multi_class= 'auto',\n",
    "                                  n_jobs= None, penalty= 'l2', random_state=6, solver=j, max_iter=1000))])\n",
    "      elif p == 'max_iter':\n",
    "        LRPipeline = Pipeline([('vect', vectorizer),\n",
    "                        ('clf', LogisticRegression(C= 10, class_weight= None, dual= False, fit_intercept= True,\n",
    "                                  intercept_scaling= 1, l1_ratio= None, multi_class= 'auto',\n",
    "                                  n_jobs= None, penalty= 'l2', random_state=6, solver='liblinear', max_iter=j))])\n",
    "        \n",
    "      elif p == 'c':\n",
    "        LRPipeline = Pipeline([('vect', vectorizer),\n",
    "                        ('clf', LogisticRegression(C= j, class_weight= None, dual= False, fit_intercept= True,\n",
    "                                  intercept_scaling= 1, l1_ratio= None, multi_class= 'auto',\n",
    "                                  n_jobs= None, penalty= 'l2', random_state=6, solver='liblinear', max_iter=1000))])\n",
    "\n",
    "      model = LRPipeline.fit(X_train, y_train)\n",
    "      y_test = np.array(y_test)\n",
    "\n",
    "      # Export Results to DataFrame\n",
    "      curr = j\n",
    "\n",
    "      rdf.loc[curr, ('Training Data', 'GO')] = f1_score(y_train, model.predict(X_train), average=None)[0]\n",
    "      rdf.loc[curr, ('Training Data', 'UA')] = f1_score(y_train, model.predict(X_train), average=None)[1]\n",
    "      rdf.loc[curr, ('Training Data', 'UC')] = f1_score(y_train, model.predict(X_train), average=None)[2]\n",
    "      rdf.loc[curr, ('Training Data', 'Total F1')] = f1_score(y_train, model.predict(X_train), average=\"weighted\")\n",
    "      rdf.loc[curr, ('Training Data', 'Accuracy')] = accuracy_score(y_train, model.predict(X_train))\n",
    "\n",
    "      rdf.loc[curr, ('Testing Data', 'GO')] = f1_score(y_test, model.predict(X_test), average=None)[0]\n",
    "      rdf.loc[curr, ('Testing Data', 'UA')] = f1_score(y_test, model.predict(X_test), average=None)[1]\n",
    "      rdf.loc[curr, ('Testing Data', 'UC')] = f1_score(y_test, model.predict(X_test), average=None)[2]\n",
    "      rdf.loc[curr, ('Testing Data', 'Total F1')] = f1_score(y_test, model.predict(X_test), average=\"weighted\")\n",
    "      rdf.loc[curr, ('Testing Data', 'Accuracy')] = accuracy_score(y_test, model.predict(X_test))\n",
    "\n",
    "      rdf.loc[curr, ('Independent Test Data', 'GO')] = f1_score(y_itest, model.predict(X_itest), average=None)[0]\n",
    "      rdf.loc[curr, ('Independent Test Data', 'UA')] = f1_score(y_itest, model.predict(X_itest), average=None)[1]\n",
    "      rdf.loc[curr, ('Independent Test Data', 'UC')] = f1_score(y_itest, model.predict(X_itest), average=None)[2]\n",
    "      rdf.loc[curr, ('Independent Test Data', 'Total F1')] = f1_score(y_itest, model.predict(X_itest), average=\"weighted\")\n",
    "      rdf.loc[curr, ('Independent Test Data', 'Accuracy')] = accuracy_score(y_itest, model.predict(X_itest))\n",
    "\n",
    "    return rdf"
   ]
  },
  {
   "cell_type": "markdown",
   "metadata": {
    "id": "YGh7B2w21NOf"
   },
   "source": [
    "#### 1.2.1) Sensitivity Analysis - 'Solver'"
   ]
  },
  {
   "cell_type": "code",
   "execution_count": 120,
   "metadata": {
    "id": "Q6yUoSbg2d51"
   },
   "outputs": [],
   "source": [
    "# Final Output DataFrame for 'Solver'\n",
    "outside = ['Training Data', 'Training Data', 'Training Data', 'Training Data', 'Training Data', \n",
    "           'Testing Data', 'Testing Data', 'Testing Data', 'Testing Data', 'Testing Data', \n",
    "           'Independent Test Data', 'Independent Test Data', 'Independent Test Data', 'Independent Test Data', 'Independent Test Data']\n",
    "inside = ['GO', 'UA', 'UC', 'Total F1', 'Accuracy', 'GO', 'UA', 'UC', 'Total F1', 'Accuracy', 'GO', 'UA', 'UC', 'Total F1', 'Accuracy']\n",
    "hier_index = list(zip(outside,inside))\n",
    "\n",
    "cols = ['lbfgs', 'liblinear', 'newton-cg', 'sag', 'saga']\n",
    "\n",
    "hier_index = pd.MultiIndex.from_tuples(hier_index)\n",
    "\n",
    "rdf_solver = pd.DataFrame(np.random.randn(5, 15), index=cols,columns=hier_index)"
   ]
  },
  {
   "cell_type": "code",
   "execution_count": 121,
   "metadata": {
    "colab": {
     "base_uri": "https://localhost:8080/",
     "height": 304
    },
    "id": "oFFWMf9OzhtM",
    "outputId": "4883a425-a1d3-4843-adbc-203bf7157811"
   },
   "outputs": [
    {
     "name": "stdout",
     "output_type": "stream",
     "text": [
      "************************** LR Sensitivity Analysis for \"Solver\" **************************\n",
      "TF-IDF Vectorization-\n",
      "Train data dimensions: (9000, 19329)\n",
      "\n"
     ]
    },
    {
     "data": {
      "text/html": [
       "<div>\n",
       "<style scoped>\n",
       "    .dataframe tbody tr th:only-of-type {\n",
       "        vertical-align: middle;\n",
       "    }\n",
       "\n",
       "    .dataframe tbody tr th {\n",
       "        vertical-align: top;\n",
       "    }\n",
       "\n",
       "    .dataframe thead tr th {\n",
       "        text-align: left;\n",
       "    }\n",
       "</style>\n",
       "<table border=\"1\" class=\"dataframe\">\n",
       "  <thead>\n",
       "    <tr>\n",
       "      <th></th>\n",
       "      <th colspan=\"5\" halign=\"left\">Training Data</th>\n",
       "      <th colspan=\"5\" halign=\"left\">Testing Data</th>\n",
       "      <th colspan=\"5\" halign=\"left\">Independent Test Data</th>\n",
       "    </tr>\n",
       "    <tr>\n",
       "      <th></th>\n",
       "      <th>GO</th>\n",
       "      <th>UA</th>\n",
       "      <th>UC</th>\n",
       "      <th>Total F1</th>\n",
       "      <th>Accuracy</th>\n",
       "      <th>GO</th>\n",
       "      <th>UA</th>\n",
       "      <th>UC</th>\n",
       "      <th>Total F1</th>\n",
       "      <th>Accuracy</th>\n",
       "      <th>GO</th>\n",
       "      <th>UA</th>\n",
       "      <th>UC</th>\n",
       "      <th>Total F1</th>\n",
       "      <th>Accuracy</th>\n",
       "    </tr>\n",
       "  </thead>\n",
       "  <tbody>\n",
       "    <tr>\n",
       "      <th>lbfgs</th>\n",
       "      <td>0.992832</td>\n",
       "      <td>0.954980</td>\n",
       "      <td>0.979690</td>\n",
       "      <td>0.976449</td>\n",
       "      <td>0.976556</td>\n",
       "      <td>0.843902</td>\n",
       "      <td>0.686316</td>\n",
       "      <td>0.834081</td>\n",
       "      <td>0.800542</td>\n",
       "      <td>0.801</td>\n",
       "      <td>0.86444</td>\n",
       "      <td>0.621324</td>\n",
       "      <td>0.825959</td>\n",
       "      <td>0.785044</td>\n",
       "      <td>0.787879</td>\n",
       "    </tr>\n",
       "    <tr>\n",
       "      <th>liblinear</th>\n",
       "      <td>0.985960</td>\n",
       "      <td>0.923478</td>\n",
       "      <td>0.966014</td>\n",
       "      <td>0.959875</td>\n",
       "      <td>0.960222</td>\n",
       "      <td>0.840580</td>\n",
       "      <td>0.685106</td>\n",
       "      <td>0.835125</td>\n",
       "      <td>0.800122</td>\n",
       "      <td>0.801</td>\n",
       "      <td>0.85910</td>\n",
       "      <td>0.633829</td>\n",
       "      <td>0.829412</td>\n",
       "      <td>0.788768</td>\n",
       "      <td>0.792030</td>\n",
       "    </tr>\n",
       "    <tr>\n",
       "      <th>newton-cg</th>\n",
       "      <td>0.992832</td>\n",
       "      <td>0.954980</td>\n",
       "      <td>0.979690</td>\n",
       "      <td>0.976449</td>\n",
       "      <td>0.976556</td>\n",
       "      <td>0.843902</td>\n",
       "      <td>0.686316</td>\n",
       "      <td>0.834081</td>\n",
       "      <td>0.800542</td>\n",
       "      <td>0.801</td>\n",
       "      <td>0.86444</td>\n",
       "      <td>0.621324</td>\n",
       "      <td>0.825959</td>\n",
       "      <td>0.785044</td>\n",
       "      <td>0.787879</td>\n",
       "    </tr>\n",
       "    <tr>\n",
       "      <th>sag</th>\n",
       "      <td>0.992832</td>\n",
       "      <td>0.954980</td>\n",
       "      <td>0.979690</td>\n",
       "      <td>0.976449</td>\n",
       "      <td>0.976556</td>\n",
       "      <td>0.843902</td>\n",
       "      <td>0.686316</td>\n",
       "      <td>0.834081</td>\n",
       "      <td>0.800542</td>\n",
       "      <td>0.801</td>\n",
       "      <td>0.86444</td>\n",
       "      <td>0.621324</td>\n",
       "      <td>0.825959</td>\n",
       "      <td>0.785044</td>\n",
       "      <td>0.787879</td>\n",
       "    </tr>\n",
       "    <tr>\n",
       "      <th>saga</th>\n",
       "      <td>0.992832</td>\n",
       "      <td>0.955001</td>\n",
       "      <td>0.979686</td>\n",
       "      <td>0.976452</td>\n",
       "      <td>0.976556</td>\n",
       "      <td>0.844660</td>\n",
       "      <td>0.686316</td>\n",
       "      <td>0.833783</td>\n",
       "      <td>0.800538</td>\n",
       "      <td>0.801</td>\n",
       "      <td>0.86444</td>\n",
       "      <td>0.621324</td>\n",
       "      <td>0.825959</td>\n",
       "      <td>0.785044</td>\n",
       "      <td>0.787879</td>\n",
       "    </tr>\n",
       "  </tbody>\n",
       "</table>\n",
       "</div>"
      ],
      "text/plain": [
       "          Training Data                      ... Independent Test Data                    \n",
       "                     GO        UA        UC  ...                    UC  Total F1  Accuracy\n",
       "lbfgs          0.992832  0.954980  0.979690  ...              0.825959  0.785044  0.787879\n",
       "liblinear      0.985960  0.923478  0.966014  ...              0.829412  0.788768  0.792030\n",
       "newton-cg      0.992832  0.954980  0.979690  ...              0.825959  0.785044  0.787879\n",
       "sag            0.992832  0.954980  0.979690  ...              0.825959  0.785044  0.787879\n",
       "saga           0.992832  0.955001  0.979686  ...              0.825959  0.785044  0.787879\n",
       "\n",
       "[5 rows x 15 columns]"
      ]
     },
     "execution_count": 121,
     "metadata": {},
     "output_type": "execute_result"
    }
   ],
   "source": [
    "# Sensitivity Analysis Iterations\n",
    "tr = 'train_4.csv'\n",
    "ts = 'd_4.csv'\n",
    "print('************************** LR Sensitivity Analysis for \"Solver\" **************************'.format(tr, ts))\n",
    "LRSAF(tr, ts, rdf_solver, cols, 'solver')"
   ]
  },
  {
   "cell_type": "markdown",
   "metadata": {
    "id": "JX6-gH2q4Phy"
   },
   "source": [
    "#### 1.2.2) Sensitivity Analysis - 'max_iter'"
   ]
  },
  {
   "cell_type": "code",
   "execution_count": 116,
   "metadata": {
    "id": "IdHOZtd7zhl9"
   },
   "outputs": [],
   "source": [
    "# Final Output DataFrame for 'max_iter'\n",
    "outside = ['Training Data', 'Training Data', 'Training Data', 'Training Data', 'Training Data', \n",
    "           'Testing Data', 'Testing Data', 'Testing Data', 'Testing Data', 'Testing Data', \n",
    "           'Independent Test Data', 'Independent Test Data', 'Independent Test Data', 'Independent Test Data', 'Independent Test Data']\n",
    "inside = ['GO', 'UA', 'UC', 'Total F1', 'Accuracy', 'GO', 'UA', 'UC', 'Total F1', 'Accuracy', 'GO', 'UA', 'UC', 'Total F1', 'Accuracy']\n",
    "hier_index = list(zip(outside,inside))\n",
    "\n",
    "cols = [100, 200, 300, 400, 500, 600, 700, 800, 900, 1000]\n",
    "\n",
    "hier_index = pd.MultiIndex.from_tuples(hier_index)\n",
    "\n",
    "rdf_max_iter = pd.DataFrame(np.random.randn(10, 15), index=cols,columns=hier_index)"
   ]
  },
  {
   "cell_type": "code",
   "execution_count": 119,
   "metadata": {
    "colab": {
     "base_uri": "https://localhost:8080/",
     "height": 458
    },
    "id": "ThyVmU2LzhjK",
    "outputId": "15d0f7f0-3282-4607-b722-2f0f90361981"
   },
   "outputs": [
    {
     "name": "stdout",
     "output_type": "stream",
     "text": [
      "************************** LR Sensitivity Analysis for \"max_iter\" **************************\n",
      "TF-IDF Vectorization-\n",
      "Train data dimensions: (9000, 19329)\n",
      "\n"
     ]
    },
    {
     "data": {
      "text/html": [
       "<div>\n",
       "<style scoped>\n",
       "    .dataframe tbody tr th:only-of-type {\n",
       "        vertical-align: middle;\n",
       "    }\n",
       "\n",
       "    .dataframe tbody tr th {\n",
       "        vertical-align: top;\n",
       "    }\n",
       "\n",
       "    .dataframe thead tr th {\n",
       "        text-align: left;\n",
       "    }\n",
       "</style>\n",
       "<table border=\"1\" class=\"dataframe\">\n",
       "  <thead>\n",
       "    <tr>\n",
       "      <th></th>\n",
       "      <th colspan=\"5\" halign=\"left\">Training Data</th>\n",
       "      <th colspan=\"5\" halign=\"left\">Testing Data</th>\n",
       "      <th colspan=\"5\" halign=\"left\">Independent Test Data</th>\n",
       "    </tr>\n",
       "    <tr>\n",
       "      <th></th>\n",
       "      <th>GO</th>\n",
       "      <th>UA</th>\n",
       "      <th>UC</th>\n",
       "      <th>Total F1</th>\n",
       "      <th>Accuracy</th>\n",
       "      <th>GO</th>\n",
       "      <th>UA</th>\n",
       "      <th>UC</th>\n",
       "      <th>Total F1</th>\n",
       "      <th>Accuracy</th>\n",
       "      <th>GO</th>\n",
       "      <th>UA</th>\n",
       "      <th>UC</th>\n",
       "      <th>Total F1</th>\n",
       "      <th>Accuracy</th>\n",
       "    </tr>\n",
       "  </thead>\n",
       "  <tbody>\n",
       "    <tr>\n",
       "      <th>100</th>\n",
       "      <td>0.98596</td>\n",
       "      <td>0.923478</td>\n",
       "      <td>0.966014</td>\n",
       "      <td>0.959875</td>\n",
       "      <td>0.960222</td>\n",
       "      <td>0.84058</td>\n",
       "      <td>0.685106</td>\n",
       "      <td>0.835125</td>\n",
       "      <td>0.800122</td>\n",
       "      <td>0.801</td>\n",
       "      <td>0.8591</td>\n",
       "      <td>0.633829</td>\n",
       "      <td>0.829412</td>\n",
       "      <td>0.788768</td>\n",
       "      <td>0.79203</td>\n",
       "    </tr>\n",
       "    <tr>\n",
       "      <th>200</th>\n",
       "      <td>0.98596</td>\n",
       "      <td>0.923478</td>\n",
       "      <td>0.966014</td>\n",
       "      <td>0.959875</td>\n",
       "      <td>0.960222</td>\n",
       "      <td>0.84058</td>\n",
       "      <td>0.685106</td>\n",
       "      <td>0.835125</td>\n",
       "      <td>0.800122</td>\n",
       "      <td>0.801</td>\n",
       "      <td>0.8591</td>\n",
       "      <td>0.633829</td>\n",
       "      <td>0.829412</td>\n",
       "      <td>0.788768</td>\n",
       "      <td>0.79203</td>\n",
       "    </tr>\n",
       "    <tr>\n",
       "      <th>300</th>\n",
       "      <td>0.98596</td>\n",
       "      <td>0.923478</td>\n",
       "      <td>0.966014</td>\n",
       "      <td>0.959875</td>\n",
       "      <td>0.960222</td>\n",
       "      <td>0.84058</td>\n",
       "      <td>0.685106</td>\n",
       "      <td>0.835125</td>\n",
       "      <td>0.800122</td>\n",
       "      <td>0.801</td>\n",
       "      <td>0.8591</td>\n",
       "      <td>0.633829</td>\n",
       "      <td>0.829412</td>\n",
       "      <td>0.788768</td>\n",
       "      <td>0.79203</td>\n",
       "    </tr>\n",
       "    <tr>\n",
       "      <th>400</th>\n",
       "      <td>0.98596</td>\n",
       "      <td>0.923478</td>\n",
       "      <td>0.966014</td>\n",
       "      <td>0.959875</td>\n",
       "      <td>0.960222</td>\n",
       "      <td>0.84058</td>\n",
       "      <td>0.685106</td>\n",
       "      <td>0.835125</td>\n",
       "      <td>0.800122</td>\n",
       "      <td>0.801</td>\n",
       "      <td>0.8591</td>\n",
       "      <td>0.633829</td>\n",
       "      <td>0.829412</td>\n",
       "      <td>0.788768</td>\n",
       "      <td>0.79203</td>\n",
       "    </tr>\n",
       "    <tr>\n",
       "      <th>500</th>\n",
       "      <td>0.98596</td>\n",
       "      <td>0.923478</td>\n",
       "      <td>0.966014</td>\n",
       "      <td>0.959875</td>\n",
       "      <td>0.960222</td>\n",
       "      <td>0.84058</td>\n",
       "      <td>0.685106</td>\n",
       "      <td>0.835125</td>\n",
       "      <td>0.800122</td>\n",
       "      <td>0.801</td>\n",
       "      <td>0.8591</td>\n",
       "      <td>0.633829</td>\n",
       "      <td>0.829412</td>\n",
       "      <td>0.788768</td>\n",
       "      <td>0.79203</td>\n",
       "    </tr>\n",
       "    <tr>\n",
       "      <th>600</th>\n",
       "      <td>0.98596</td>\n",
       "      <td>0.923478</td>\n",
       "      <td>0.966014</td>\n",
       "      <td>0.959875</td>\n",
       "      <td>0.960222</td>\n",
       "      <td>0.84058</td>\n",
       "      <td>0.685106</td>\n",
       "      <td>0.835125</td>\n",
       "      <td>0.800122</td>\n",
       "      <td>0.801</td>\n",
       "      <td>0.8591</td>\n",
       "      <td>0.633829</td>\n",
       "      <td>0.829412</td>\n",
       "      <td>0.788768</td>\n",
       "      <td>0.79203</td>\n",
       "    </tr>\n",
       "    <tr>\n",
       "      <th>700</th>\n",
       "      <td>0.98596</td>\n",
       "      <td>0.923478</td>\n",
       "      <td>0.966014</td>\n",
       "      <td>0.959875</td>\n",
       "      <td>0.960222</td>\n",
       "      <td>0.84058</td>\n",
       "      <td>0.685106</td>\n",
       "      <td>0.835125</td>\n",
       "      <td>0.800122</td>\n",
       "      <td>0.801</td>\n",
       "      <td>0.8591</td>\n",
       "      <td>0.633829</td>\n",
       "      <td>0.829412</td>\n",
       "      <td>0.788768</td>\n",
       "      <td>0.79203</td>\n",
       "    </tr>\n",
       "    <tr>\n",
       "      <th>800</th>\n",
       "      <td>0.98596</td>\n",
       "      <td>0.923478</td>\n",
       "      <td>0.966014</td>\n",
       "      <td>0.959875</td>\n",
       "      <td>0.960222</td>\n",
       "      <td>0.84058</td>\n",
       "      <td>0.685106</td>\n",
       "      <td>0.835125</td>\n",
       "      <td>0.800122</td>\n",
       "      <td>0.801</td>\n",
       "      <td>0.8591</td>\n",
       "      <td>0.633829</td>\n",
       "      <td>0.829412</td>\n",
       "      <td>0.788768</td>\n",
       "      <td>0.79203</td>\n",
       "    </tr>\n",
       "    <tr>\n",
       "      <th>900</th>\n",
       "      <td>0.98596</td>\n",
       "      <td>0.923478</td>\n",
       "      <td>0.966014</td>\n",
       "      <td>0.959875</td>\n",
       "      <td>0.960222</td>\n",
       "      <td>0.84058</td>\n",
       "      <td>0.685106</td>\n",
       "      <td>0.835125</td>\n",
       "      <td>0.800122</td>\n",
       "      <td>0.801</td>\n",
       "      <td>0.8591</td>\n",
       "      <td>0.633829</td>\n",
       "      <td>0.829412</td>\n",
       "      <td>0.788768</td>\n",
       "      <td>0.79203</td>\n",
       "    </tr>\n",
       "    <tr>\n",
       "      <th>1000</th>\n",
       "      <td>0.98596</td>\n",
       "      <td>0.923478</td>\n",
       "      <td>0.966014</td>\n",
       "      <td>0.959875</td>\n",
       "      <td>0.960222</td>\n",
       "      <td>0.84058</td>\n",
       "      <td>0.685106</td>\n",
       "      <td>0.835125</td>\n",
       "      <td>0.800122</td>\n",
       "      <td>0.801</td>\n",
       "      <td>0.8591</td>\n",
       "      <td>0.633829</td>\n",
       "      <td>0.829412</td>\n",
       "      <td>0.788768</td>\n",
       "      <td>0.79203</td>\n",
       "    </tr>\n",
       "  </tbody>\n",
       "</table>\n",
       "</div>"
      ],
      "text/plain": [
       "     Training Data                      ... Independent Test Data                   \n",
       "                GO        UA        UC  ...                    UC  Total F1 Accuracy\n",
       "100        0.98596  0.923478  0.966014  ...              0.829412  0.788768  0.79203\n",
       "200        0.98596  0.923478  0.966014  ...              0.829412  0.788768  0.79203\n",
       "300        0.98596  0.923478  0.966014  ...              0.829412  0.788768  0.79203\n",
       "400        0.98596  0.923478  0.966014  ...              0.829412  0.788768  0.79203\n",
       "500        0.98596  0.923478  0.966014  ...              0.829412  0.788768  0.79203\n",
       "600        0.98596  0.923478  0.966014  ...              0.829412  0.788768  0.79203\n",
       "700        0.98596  0.923478  0.966014  ...              0.829412  0.788768  0.79203\n",
       "800        0.98596  0.923478  0.966014  ...              0.829412  0.788768  0.79203\n",
       "900        0.98596  0.923478  0.966014  ...              0.829412  0.788768  0.79203\n",
       "1000       0.98596  0.923478  0.966014  ...              0.829412  0.788768  0.79203\n",
       "\n",
       "[10 rows x 15 columns]"
      ]
     },
     "execution_count": 119,
     "metadata": {},
     "output_type": "execute_result"
    }
   ],
   "source": [
    "# Sensitivity Analysis Iterations\n",
    "tr = 'train_4.csv'\n",
    "ts = 'd_4.csv'\n",
    "print('************************** LR Sensitivity Analysis for \"max_iter\" **************************'.format(tr, ts))\n",
    "LRSAF(tr, ts, rdf_max_iter, cols, 'max_iter')"
   ]
  },
  {
   "cell_type": "markdown",
   "metadata": {
    "id": "Iu0iD7aD6WgP"
   },
   "source": [
    "#### 1.2.2) Sensitivity Analysis - 'C'"
   ]
  },
  {
   "cell_type": "code",
   "execution_count": 125,
   "metadata": {
    "id": "uADklF566WgQ"
   },
   "outputs": [],
   "source": [
    "# Final Output DataFrame for 'C'\n",
    "outside = ['Training Data', 'Training Data', 'Training Data', 'Training Data', 'Training Data', \n",
    "           'Testing Data', 'Testing Data', 'Testing Data', 'Testing Data', 'Testing Data', \n",
    "           'Independent Test Data', 'Independent Test Data', 'Independent Test Data', 'Independent Test Data', 'Independent Test Data']\n",
    "inside = ['GO', 'UA', 'UC', 'Total F1', 'Accuracy', 'GO', 'UA', 'UC', 'Total F1', 'Accuracy', 'GO', 'UA', 'UC', 'Total F1', 'Accuracy']\n",
    "hier_index = list(zip(outside,inside))\n",
    "\n",
    "cols = [0.0001,0.001,0.01,0.1,1,10,100,1000]\n",
    "\n",
    "hier_index = pd.MultiIndex.from_tuples(hier_index)\n",
    "\n",
    "rdf_C = pd.DataFrame(np.random.randn(8, 15), index=cols,columns=hier_index)"
   ]
  },
  {
   "cell_type": "code",
   "execution_count": 126,
   "metadata": {
    "colab": {
     "base_uri": "https://localhost:8080/",
     "height": 397
    },
    "id": "wVQiht6C6WgQ",
    "outputId": "1fcf4ff7-afe4-4fd1-9b87-975ff3efe858"
   },
   "outputs": [
    {
     "name": "stdout",
     "output_type": "stream",
     "text": [
      "************************** LR Sensitivity Analysis for \"max_iter\" **************************\n",
      "TF-IDF Vectorization-\n",
      "Train data dimensions: (9000, 19329)\n",
      "\n"
     ]
    },
    {
     "data": {
      "text/html": [
       "<div>\n",
       "<style scoped>\n",
       "    .dataframe tbody tr th:only-of-type {\n",
       "        vertical-align: middle;\n",
       "    }\n",
       "\n",
       "    .dataframe tbody tr th {\n",
       "        vertical-align: top;\n",
       "    }\n",
       "\n",
       "    .dataframe thead tr th {\n",
       "        text-align: left;\n",
       "    }\n",
       "</style>\n",
       "<table border=\"1\" class=\"dataframe\">\n",
       "  <thead>\n",
       "    <tr>\n",
       "      <th></th>\n",
       "      <th colspan=\"5\" halign=\"left\">Training Data</th>\n",
       "      <th colspan=\"5\" halign=\"left\">Testing Data</th>\n",
       "      <th colspan=\"5\" halign=\"left\">Independent Test Data</th>\n",
       "    </tr>\n",
       "    <tr>\n",
       "      <th></th>\n",
       "      <th>GO</th>\n",
       "      <th>UA</th>\n",
       "      <th>UC</th>\n",
       "      <th>Total F1</th>\n",
       "      <th>Accuracy</th>\n",
       "      <th>GO</th>\n",
       "      <th>UA</th>\n",
       "      <th>UC</th>\n",
       "      <th>Total F1</th>\n",
       "      <th>Accuracy</th>\n",
       "      <th>GO</th>\n",
       "      <th>UA</th>\n",
       "      <th>UC</th>\n",
       "      <th>Total F1</th>\n",
       "      <th>Accuracy</th>\n",
       "    </tr>\n",
       "  </thead>\n",
       "  <tbody>\n",
       "    <tr>\n",
       "      <th>0.0001</th>\n",
       "      <td>0.000000</td>\n",
       "      <td>0.000000</td>\n",
       "      <td>0.708567</td>\n",
       "      <td>0.388767</td>\n",
       "      <td>0.548667</td>\n",
       "      <td>0.000000</td>\n",
       "      <td>0.000000</td>\n",
       "      <td>0.708010</td>\n",
       "      <td>0.387990</td>\n",
       "      <td>0.548</td>\n",
       "      <td>0.000000</td>\n",
       "      <td>0.000000</td>\n",
       "      <td>0.703096</td>\n",
       "      <td>0.381172</td>\n",
       "      <td>0.542134</td>\n",
       "    </tr>\n",
       "    <tr>\n",
       "      <th>0.0010</th>\n",
       "      <td>0.000000</td>\n",
       "      <td>0.000000</td>\n",
       "      <td>0.708567</td>\n",
       "      <td>0.388767</td>\n",
       "      <td>0.548667</td>\n",
       "      <td>0.000000</td>\n",
       "      <td>0.000000</td>\n",
       "      <td>0.708010</td>\n",
       "      <td>0.387990</td>\n",
       "      <td>0.548</td>\n",
       "      <td>0.000000</td>\n",
       "      <td>0.000000</td>\n",
       "      <td>0.703096</td>\n",
       "      <td>0.381172</td>\n",
       "      <td>0.542134</td>\n",
       "    </tr>\n",
       "    <tr>\n",
       "      <th>0.0100</th>\n",
       "      <td>0.000000</td>\n",
       "      <td>0.000000</td>\n",
       "      <td>0.708567</td>\n",
       "      <td>0.388767</td>\n",
       "      <td>0.548667</td>\n",
       "      <td>0.000000</td>\n",
       "      <td>0.000000</td>\n",
       "      <td>0.708010</td>\n",
       "      <td>0.387990</td>\n",
       "      <td>0.548</td>\n",
       "      <td>0.000000</td>\n",
       "      <td>0.000000</td>\n",
       "      <td>0.703096</td>\n",
       "      <td>0.381172</td>\n",
       "      <td>0.542134</td>\n",
       "    </tr>\n",
       "    <tr>\n",
       "      <th>0.1000</th>\n",
       "      <td>0.427105</td>\n",
       "      <td>0.327524</td>\n",
       "      <td>0.755601</td>\n",
       "      <td>0.583208</td>\n",
       "      <td>0.645667</td>\n",
       "      <td>0.531034</td>\n",
       "      <td>0.431138</td>\n",
       "      <td>0.770349</td>\n",
       "      <td>0.638104</td>\n",
       "      <td>0.679</td>\n",
       "      <td>0.485714</td>\n",
       "      <td>0.323607</td>\n",
       "      <td>0.752675</td>\n",
       "      <td>0.591413</td>\n",
       "      <td>0.646741</td>\n",
       "    </tr>\n",
       "    <tr>\n",
       "      <th>1.0000</th>\n",
       "      <td>0.896552</td>\n",
       "      <td>0.731565</td>\n",
       "      <td>0.884742</td>\n",
       "      <td>0.850090</td>\n",
       "      <td>0.855000</td>\n",
       "      <td>0.800000</td>\n",
       "      <td>0.639456</td>\n",
       "      <td>0.829769</td>\n",
       "      <td>0.777622</td>\n",
       "      <td>0.782</td>\n",
       "      <td>0.830031</td>\n",
       "      <td>0.580448</td>\n",
       "      <td>0.822384</td>\n",
       "      <td>0.765795</td>\n",
       "      <td>0.774595</td>\n",
       "    </tr>\n",
       "    <tr>\n",
       "      <th>10.0000</th>\n",
       "      <td>0.985960</td>\n",
       "      <td>0.923478</td>\n",
       "      <td>0.966014</td>\n",
       "      <td>0.959875</td>\n",
       "      <td>0.960222</td>\n",
       "      <td>0.840580</td>\n",
       "      <td>0.685106</td>\n",
       "      <td>0.835125</td>\n",
       "      <td>0.800122</td>\n",
       "      <td>0.801</td>\n",
       "      <td>0.859100</td>\n",
       "      <td>0.633829</td>\n",
       "      <td>0.829412</td>\n",
       "      <td>0.788768</td>\n",
       "      <td>0.792030</td>\n",
       "    </tr>\n",
       "    <tr>\n",
       "      <th>100.0000</th>\n",
       "      <td>0.997604</td>\n",
       "      <td>0.971468</td>\n",
       "      <td>0.987112</td>\n",
       "      <td>0.985514</td>\n",
       "      <td>0.985556</td>\n",
       "      <td>0.838554</td>\n",
       "      <td>0.687631</td>\n",
       "      <td>0.832130</td>\n",
       "      <td>0.798661</td>\n",
       "      <td>0.799</td>\n",
       "      <td>0.858801</td>\n",
       "      <td>0.603843</td>\n",
       "      <td>0.816797</td>\n",
       "      <td>0.774644</td>\n",
       "      <td>0.777501</td>\n",
       "    </tr>\n",
       "    <tr>\n",
       "      <th>1000.0000</th>\n",
       "      <td>0.997604</td>\n",
       "      <td>0.972596</td>\n",
       "      <td>0.987622</td>\n",
       "      <td>0.986067</td>\n",
       "      <td>0.986111</td>\n",
       "      <td>0.833735</td>\n",
       "      <td>0.676171</td>\n",
       "      <td>0.822669</td>\n",
       "      <td>0.789698</td>\n",
       "      <td>0.789</td>\n",
       "      <td>0.841901</td>\n",
       "      <td>0.586114</td>\n",
       "      <td>0.805825</td>\n",
       "      <td>0.760759</td>\n",
       "      <td>0.762972</td>\n",
       "    </tr>\n",
       "  </tbody>\n",
       "</table>\n",
       "</div>"
      ],
      "text/plain": [
       "          Training Data                      ... Independent Test Data                    \n",
       "                     GO        UA        UC  ...                    UC  Total F1  Accuracy\n",
       "0.0001         0.000000  0.000000  0.708567  ...              0.703096  0.381172  0.542134\n",
       "0.0010         0.000000  0.000000  0.708567  ...              0.703096  0.381172  0.542134\n",
       "0.0100         0.000000  0.000000  0.708567  ...              0.703096  0.381172  0.542134\n",
       "0.1000         0.427105  0.327524  0.755601  ...              0.752675  0.591413  0.646741\n",
       "1.0000         0.896552  0.731565  0.884742  ...              0.822384  0.765795  0.774595\n",
       "10.0000        0.985960  0.923478  0.966014  ...              0.829412  0.788768  0.792030\n",
       "100.0000       0.997604  0.971468  0.987112  ...              0.816797  0.774644  0.777501\n",
       "1000.0000      0.997604  0.972596  0.987622  ...              0.805825  0.760759  0.762972\n",
       "\n",
       "[8 rows x 15 columns]"
      ]
     },
     "execution_count": 126,
     "metadata": {},
     "output_type": "execute_result"
    }
   ],
   "source": [
    "# Sensitivity Analysis Iterations\n",
    "tr = 'train_4.csv'\n",
    "ts = 'd_4.csv'\n",
    "print('************************** LR Sensitivity Analysis for \"max_iter\" **************************'.format(tr, ts))\n",
    "LRSAF(tr, ts, rdf_C, cols, 'c')"
   ]
  },
  {
   "cell_type": "markdown",
   "metadata": {
    "id": "-apN3YkjvsV0"
   },
   "source": [
    "## 2) Linear Support Vector Machines (LSVM) Model"
   ]
  },
  {
   "cell_type": "markdown",
   "metadata": {
    "id": "NJ1OGKJNvsV0"
   },
   "source": [
    "### 4.1) Base case"
   ]
  },
  {
   "cell_type": "code",
   "execution_count": null,
   "metadata": {
    "id": "jR__Rtp2vsV0"
   },
   "outputs": [],
   "source": [
    "SVCPipeline = Pipeline([('vect', vectorizer),\n",
    "                     ('chi',  SelectKBest(chi2, k=1200)),\n",
    "                     ('clf', SVC(C=1.0, kernel='linear', degree=3, gamma='scale', coef0=0.0, shrinking=True, probability=False, tol=0.001, \n",
    "           cache_size=200, class_weight=None, verbose=False, max_iter=- 1, decision_function_shape='ovr', \n",
    "           break_ties=False, random_state=None))])\n",
    "\n",
    "lsvm = SVCPipeline.fit(X_train, y_train)\n",
    "y_test = np.array(y_test)"
   ]
  },
  {
   "cell_type": "markdown",
   "metadata": {
    "id": "NSqaAOh2vsV2"
   },
   "source": [
    "<p style=\"font-family:Gadugi\">Assessment of the DT Model:"
   ]
  },
  {
   "cell_type": "code",
   "execution_count": null,
   "metadata": {
    "colab": {
     "base_uri": "https://localhost:8080/",
     "height": 505
    },
    "id": "LaU9GqDXvsV2",
    "outputId": "4fcaa6bd-d3e9-4618-ad38-fca2f00443c4",
    "pycharm": {
     "name": "#%%\n"
    }
   },
   "outputs": [
    {
     "name": "stdout",
     "output_type": "stream",
     "text": [
      "The Report for Linear SVM Classifier Model is: \n",
      "\n"
     ]
    },
    {
     "data": {
      "image/png": "[encoded data removed]",
      "text/plain": [
       "<Figure size 288x216 with 2 Axes>"
      ]
     },
     "metadata": {
      "needs_background": "light"
     },
     "output_type": "display_data"
    },
    {
     "name": "stdout",
     "output_type": "stream",
     "text": [
      "              precision    recall  f1-score   support\n",
      "\n",
      "           0       0.91      0.78      0.84       211\n",
      "           1       0.70      0.49      0.58       239\n",
      "           2       0.77      0.91      0.84       550\n",
      "\n",
      "    accuracy                           0.78      1000\n",
      "   macro avg       0.79      0.73      0.75      1000\n",
      "weighted avg       0.78      0.78      0.77      1000\n",
      "\n",
      "Accuracy Score on Training data for  Decision Tree Classifier is: 79.5\n",
      "Accuracy Score on Test data for  Decision Tree Classifier is: 78.4\n",
      "F1 Score  for Decision Tree Classifier is: 77.49193007314813\n"
     ]
    }
   ],
   "source": [
    "print('The Report for Linear SVM Classifier Model is: \\n')\n",
    "matrix = plot_confusion_matrix(lsvm, X_test, y_test, values_format='d')\n",
    "matrix.ax_.set_title('Confusion Matrix')\n",
    "plt.xlabel('Predicted Label')\n",
    "plt.gcf().axes[0].tick_params(color='black')\n",
    "plt.gcf().set_size_inches(4,3)\n",
    "plt.show()\n",
    "\n",
    "print(classification_report(y_test, lsvm.predict(X_test)))\n",
    "\n",
    "\n",
    "print(\"Accuracy Score on Training data for  Decision Tree Classifier is: {}\".format(accuracy_score(y_train, lsvm.predict(X_train)) * 100))\n",
    "print(\"Accuracy Score on Test data for  Decision Tree Classifier is: {}\".format(accuracy_score(y_test, lsvm.predict(X_test)) * 100))\n",
    "print(\"F1 Score  for Decision Tree Classifier is: {}\".format(f1_score(y_test, lsvm.predict(X_test), average=\"weighted\") * 100))"
   ]
  },
  {
   "cell_type": "markdown",
   "metadata": {
    "id": "UcdZfDhXvsV3"
   },
   "source": [
    "### Sensitivity Analysis"
   ]
  },
  {
   "cell_type": "code",
   "execution_count": null,
   "metadata": {
    "id": "oCUpVbe3vsV3"
   },
   "outputs": [],
   "source": [
    "# Defining Parameters values for Sensitivity Analysis\n",
    "param_grid_solver = {'solver': ['newton-cg', 'lbfgs', 'liblinear', 'sag', 'saga']}\n",
    "param_grid_max_iter = {'max_iter': list(range(100, 1000, 100))}\n",
    "param_grid_c = {'C': list(range(-4, 4))}"
   ]
  },
  {
   "cell_type": "code",
   "execution_count": null,
   "metadata": {
    "id": "A9wY9WQ8vsV3"
   },
   "outputs": [],
   "source": [
    "gridlr_solver = GridSearchCV(LogisticRegression(C= 1.0, class_weight= None, dual= False, fit_intercept= True,\n",
    "                              intercept_scaling= 1, l1_ratio= None, max_iter= 100, multi_class= 'auto',\n",
    "                              n_jobs= None, penalty= 'l2', random_state= None),\n",
    "                      param_grid_solver, refit=True, verbose=3)"
   ]
  },
  {
   "cell_type": "code",
   "execution_count": null,
   "metadata": {
    "id": "0ZrfSa28vsV3",
    "outputId": "79019b4b-b034-4fe0-e4fb-bbdc7bfa2316"
   },
   "outputs": [
    {
     "name": "stdout",
     "output_type": "stream",
     "text": [
      "Fitting 5 folds for each of 5 candidates, totalling 25 fits\n",
      "[CV] solver=newton-cg ................................................\n"
     ]
    },
    {
     "name": "stderr",
     "output_type": "stream",
     "text": [
      "[Parallel(n_jobs=1)]: Using backend SequentialBackend with 1 concurrent workers.\n"
     ]
    }
   ],
   "source": [
    "gridlr_solver.fit(X_train, Y_train.values.ravel())"
   ]
  },
  {
   "cell_type": "code",
   "execution_count": null,
   "metadata": {
    "id": "j-7GMPUrvsV4",
    "outputId": "084c5cee-82e4-4eff-f7c4-90722e7534ab"
   },
   "outputs": [
    {
     "name": "stdout",
     "output_type": "stream",
     "text": [
      "[-4, -3, -2, -1, 0, 1, 2, 3]\n"
     ]
    }
   ],
   "source": [
    "gridlr_max_iter = GridSearchCV(logmodel(C= 1.0, class_weight= None, dual= False, fit_intercept= True,\n",
    "                              intercept_scaling= 1, l1_ratio= None, multi_class= 'auto',\n",
    "                              n_jobs= None, penalty= 'l2', random_state= None, solver: 'lbgfs'),\n",
    "                      param_grid_max_iter, refit=True, verbose=3)"
   ]
  },
  {
   "cell_type": "code",
   "execution_count": null,
   "metadata": {
    "id": "DpplCKrCvsV4"
   },
   "outputs": [],
   "source": [
    "gridlr_max_iter.fit(X_train, Y_train)"
   ]
  },
  {
   "cell_type": "code",
   "execution_count": null,
   "metadata": {
    "id": "_b-6fQu2vsV4"
   },
   "outputs": [],
   "source": [
    "gridlr_c = GridSearchCV(logmodel(, class_weight= None, dual= False, fit_intercept= True,\n",
    "                              intercept_scaling= 1, l1_ratio= None, max_iter= 100, multi_class= 'auto',\n",
    "                              n_jobs= None, penalty= 'l2', random_state= None, solver: 'lbgfs'),\n",
    "                      param_grid_c, refit=True, verbose=3)"
   ]
  },
  {
   "cell_type": "code",
   "execution_count": null,
   "metadata": {
    "id": "DM8WvZp3vsV4"
   },
   "outputs": [],
   "source": [
    "gridlr_c.fit(X_train, Y_train)"
   ]
  },
  {
   "cell_type": "code",
   "execution_count": null,
   "metadata": {
    "id": "23Rbw6qTvsV4"
   },
   "outputs": [],
   "source": []
  },
  {
   "cell_type": "code",
   "execution_count": null,
   "metadata": {
    "id": "f_Cf2rTfvsV5"
   },
   "outputs": [],
   "source": []
  },
  {
   "cell_type": "markdown",
   "metadata": {
    "id": "NvoonFpcvsV5"
   },
   "source": [
    "### 4.2) Stop words case"
   ]
  },
  {
   "cell_type": "code",
   "execution_count": null,
   "metadata": {
    "id": "VxOm1JTlvsV5"
   },
   "outputs": [],
   "source": [
    "lsvm2 = SVC(C=1.0, kernel='linear', degree=3, gamma='scale', coef0=0.0, shrinking=True, probability=False, tol=0.001, \n",
    "           cache_size=200, class_weight=None, verbose=False, max_iter=- 1, decision_function_shape='ovr', \n",
    "           break_ties=False, random_state=None)"
   ]
  },
  {
   "cell_type": "code",
   "execution_count": null,
   "metadata": {
    "id": "N_ORlxzTvsV5",
    "outputId": "5deb4297-01ee-40d9-fad0-190eec11a6a8"
   },
   "outputs": [
    {
     "name": "stderr",
     "output_type": "stream",
     "text": [
      "C:\\Users\\Hrishikesh\\anaconda3\\lib\\site-packages\\sklearn\\utils\\validation.py:73: DataConversionWarning: A column-vector y was passed when a 1d array was expected. Please change the shape of y to (n_samples, ), for example using ravel().\n",
      "  return f(**kwargs)\n"
     ]
    },
    {
     "data": {
      "text/plain": [
       "SVC()"
      ]
     },
     "execution_count": 137,
     "metadata": {},
     "output_type": "execute_result"
    }
   ],
   "source": [
    "lsvm2.fit(X_train2, Y_train)"
   ]
  },
  {
   "cell_type": "markdown",
   "metadata": {
    "id": "TIvBxPQEvsV7"
   },
   "source": [
    "<p style=\"font-family:Gadugi\"> Prediction and Evaluation:"
   ]
  },
  {
   "cell_type": "code",
   "execution_count": null,
   "metadata": {
    "colab": {
     "base_uri": "https://localhost:8080/",
     "height": 34
    },
    "id": "8W_tRdP7vsV7",
    "outputId": "adcb8032-28c3-45dc-8f7c-e5507fab7ed0",
    "pycharm": {
     "name": "#%%\n"
    }
   },
   "outputs": [
    {
     "data": {
      "text/plain": [
       "0.5391111111111111"
      ]
     },
     "execution_count": 138,
     "metadata": {},
     "output_type": "execute_result"
    }
   ],
   "source": [
    "lsvm2.score(X_train2, Y_train)"
   ]
  },
  {
   "cell_type": "code",
   "execution_count": null,
   "metadata": {
    "colab": {
     "base_uri": "https://localhost:8080/",
     "height": 34
    },
    "id": "DCl4OSqIvsV8",
    "outputId": "b4db23c7-22c7-4ba7-ce6e-c7235637f671",
    "pycharm": {
     "name": "#%%\n"
    }
   },
   "outputs": [
    {
     "data": {
      "text/plain": [
       "0.517"
      ]
     },
     "execution_count": 139,
     "metadata": {},
     "output_type": "execute_result"
    }
   ],
   "source": [
    "lsvm2.score(X_test2, Y_test)"
   ]
  },
  {
   "cell_type": "code",
   "execution_count": null,
   "metadata": {
    "id": "2sfDdQ9ZvsV8"
   },
   "outputs": [],
   "source": [
    "lsvm2_predicttr = lsvm2.predict(X_train2)"
   ]
  },
  {
   "cell_type": "code",
   "execution_count": null,
   "metadata": {
    "id": "RhaauGlAvsV8",
    "pycharm": {
     "name": "#%%\n"
    }
   },
   "outputs": [],
   "source": [
    "lsvm2_predictts = lsvm2.predict(X_test2)"
   ]
  },
  {
   "cell_type": "code",
   "execution_count": null,
   "metadata": {
    "id": "WuLd5K5YvsV9",
    "outputId": "d90dfa1b-324e-4ee5-da1c-4a8591d7e23e"
   },
   "outputs": [
    {
     "name": "stdout",
     "output_type": "stream",
     "text": [
      "The Report for Linear SVM Classifier Model is: \n",
      "\n"
     ]
    },
    {
     "data": {
      "image/png": "[encoded data removed]",
      "text/plain": [
       "<Figure size 288x216 with 2 Axes>"
      ]
     },
     "metadata": {
      "needs_background": "light"
     },
     "output_type": "display_data"
    },
    {
     "name": "stdout",
     "output_type": "stream",
     "text": [
      "              precision    recall  f1-score   support\n",
      "\n",
      "           0       1.00      0.00      0.01       237\n",
      "           1       0.00      0.00      0.00       247\n",
      "           2       0.52      1.00      0.68       516\n",
      "\n",
      "    accuracy                           0.52      1000\n",
      "   macro avg       0.51      0.33      0.23      1000\n",
      "weighted avg       0.50      0.52      0.35      1000\n",
      "\n",
      "Accuracy Score on Training data for  Decision Tree Classifier is: 53.91111111111111\n",
      "Accuracy Score on Test data for  Decision Tree Classifier is: 51.7\n",
      "F1 Score  for Decision Tree Classifier is: 35.348466594558616\n"
     ]
    },
    {
     "name": "stderr",
     "output_type": "stream",
     "text": [
      "C:\\Users\\Hrishikesh\\anaconda3\\lib\\site-packages\\sklearn\\metrics\\_classification.py:1221: UndefinedMetricWarning: Precision and F-score are ill-defined and being set to 0.0 in labels with no predicted samples. Use `zero_division` parameter to control this behavior.\n",
      "  _warn_prf(average, modifier, msg_start, len(result))\n"
     ]
    }
   ],
   "source": [
    "print('The Report for Linear SVM Classifier Model is: \\n')\n",
    "matrix = plot_confusion_matrix(lsvm2, X_test2, Y_test, values_format='d')\n",
    "matrix.ax_.set_title('Confusion Matrix')\n",
    "plt.xlabel('Predicted Label')\n",
    "plt.gcf().axes[0].tick_params(color='black')\n",
    "plt.gcf().set_size_inches(4,3)\n",
    "plt.show()\n",
    "\n",
    "print(classification_report(Y_test, lsvm2_predictts))\n",
    "\n",
    "\n",
    "print(\"Accuracy Score on Training data for  Decision Tree Classifier is: {}\".format(accuracy_score(Y_train, lsvm2_predicttr) * 100))\n",
    "print(\"Accuracy Score on Test data for  Decision Tree Classifier is: {}\".format(accuracy_score(Y_test, lsvm2_predictts) * 100))\n",
    "print(\"F1 Score  for Decision Tree Classifier is: {}\".format(f1_score(Y_test, lsvm2_predictts, average=\"weighted\") * 100))"
   ]
  },
  {
   "cell_type": "markdown",
   "metadata": {
    "id": "moX8dQt9vsV-"
   },
   "source": [
    "## 3) RBF Support Vector Machines (RBFSVM) Model"
   ]
  },
  {
   "cell_type": "markdown",
   "metadata": {
    "id": "zQWxp-IjvsV_"
   },
   "source": [
    "### 5.1) Base case"
   ]
  },
  {
   "cell_type": "code",
   "execution_count": null,
   "metadata": {
    "id": "xLhQnVFsvsV_"
   },
   "outputs": [],
   "source": [
    "rbfsvm = SVC(C=1.0, kernel='rbf', degree=3, gamma='scale', coef0=0.0, shrinking=True, probability=False, tol=0.001, \n",
    "           cache_size=200, class_weight=None, verbose=False, max_iter=- 1, decision_function_shape='ovr', \n",
    "           break_ties=False, random_state=None)"
   ]
  },
  {
   "cell_type": "code",
   "execution_count": null,
   "metadata": {
    "id": "XCp5YoEovsV_",
    "outputId": "97aafcf2-50f0-411d-a411-be972ba483a7"
   },
   "outputs": [
    {
     "name": "stderr",
     "output_type": "stream",
     "text": [
      "C:\\Users\\Hrishikesh\\anaconda3\\lib\\site-packages\\sklearn\\utils\\validation.py:73: DataConversionWarning: A column-vector y was passed when a 1d array was expected. Please change the shape of y to (n_samples, ), for example using ravel().\n",
      "  return f(**kwargs)\n"
     ]
    },
    {
     "data": {
      "text/plain": [
       "SVC()"
      ]
     },
     "execution_count": 130,
     "metadata": {},
     "output_type": "execute_result"
    }
   ],
   "source": [
    "rbfsvm.fit(X_train, Y_train)"
   ]
  },
  {
   "cell_type": "markdown",
   "metadata": {
    "id": "T_izZr-ovsWA"
   },
   "source": [
    "<p style=\"font-family:Gadugi\"> Prediction and Evaluation:"
   ]
  },
  {
   "cell_type": "code",
   "execution_count": null,
   "metadata": {
    "colab": {
     "base_uri": "https://localhost:8080/",
     "height": 34
    },
    "id": "w5AshIZ7vsWA",
    "outputId": "adcb8032-28c3-45dc-8f7c-e5507fab7ed0",
    "pycharm": {
     "name": "#%%\n"
    }
   },
   "outputs": [
    {
     "data": {
      "text/plain": [
       "0.5396666666666666"
      ]
     },
     "execution_count": 131,
     "metadata": {},
     "output_type": "execute_result"
    }
   ],
   "source": [
    "rbfsvm.score(X_train, Y_train)"
   ]
  },
  {
   "cell_type": "code",
   "execution_count": null,
   "metadata": {
    "colab": {
     "base_uri": "https://localhost:8080/",
     "height": 34
    },
    "id": "f79vHpllvsWB",
    "outputId": "b4db23c7-22c7-4ba7-ce6e-c7235637f671",
    "pycharm": {
     "name": "#%%\n"
    }
   },
   "outputs": [
    {
     "data": {
      "text/plain": [
       "0.519"
      ]
     },
     "execution_count": 132,
     "metadata": {},
     "output_type": "execute_result"
    }
   ],
   "source": [
    "rbfsvm.score(X_test, Y_test)"
   ]
  },
  {
   "cell_type": "code",
   "execution_count": null,
   "metadata": {
    "id": "jOnZkNVEvsWB"
   },
   "outputs": [],
   "source": [
    "rbfsvm_predicttr = rbfsvm.predict(X_train)"
   ]
  },
  {
   "cell_type": "code",
   "execution_count": null,
   "metadata": {
    "id": "XsO2CHiWvsWB",
    "pycharm": {
     "name": "#%%\n"
    }
   },
   "outputs": [],
   "source": [
    "rbfsvm_predictts = rbfsvm.predict(X_test)"
   ]
  },
  {
   "cell_type": "markdown",
   "metadata": {
    "id": "dSxJD28HvsWC"
   },
   "source": [
    "<p style=\"font-family:Gadugi\">Assessment of the DT Model:"
   ]
  },
  {
   "cell_type": "code",
   "execution_count": null,
   "metadata": {
    "colab": {
     "base_uri": "https://localhost:8080/",
     "height": 476
    },
    "id": "Imo8yqYcvsWC",
    "outputId": "85f27c5b-51ce-4223-91b0-909e996d22dc",
    "pycharm": {
     "name": "#%%\n"
    }
   },
   "outputs": [
    {
     "name": "stdout",
     "output_type": "stream",
     "text": [
      "The Report for Linear SVM Classifier Model is: \n",
      "\n"
     ]
    },
    {
     "data": {
      "image/png": "[encoded data removed]",
      "text/plain": [
       "<Figure size 288x216 with 2 Axes>"
      ]
     },
     "metadata": {
      "needs_background": "light"
     },
     "output_type": "display_data"
    },
    {
     "name": "stdout",
     "output_type": "stream",
     "text": [
      "              precision    recall  f1-score   support\n",
      "\n",
      "           0       1.00      0.00      0.01       237\n",
      "           1       1.00      0.01      0.02       247\n",
      "           2       0.52      1.00      0.68       516\n",
      "\n",
      "    accuracy                           0.52      1000\n",
      "   macro avg       0.84      0.34      0.24      1000\n",
      "weighted avg       0.75      0.52      0.36      1000\n",
      "\n",
      "Accuracy Score on Training data for  Decision Tree Classifier is: 53.96666666666666\n",
      "Accuracy Score on Test data for  Decision Tree Classifier is: 51.9\n",
      "F1 Score  for Decision Tree Classifier is: 35.79171680585054\n"
     ]
    }
   ],
   "source": [
    "print('The Report for RBF SVM Classifier Model is: \\n')\n",
    "matrix = plot_confusion_matrix(rbfsvm, X_test, Y_test, values_format='d')\n",
    "matrix.ax_.set_title('Confusion Matrix')\n",
    "plt.xlabel('Predicted Label')\n",
    "plt.gcf().axes[0].tick_params(color='black')\n",
    "plt.gcf().set_size_inches(4,3)\n",
    "plt.show()\n",
    "\n",
    "print(classification_report(Y_test, rbfsvm_predictts))\n",
    "\n",
    "\n",
    "print(\"Accuracy Score on Training data for  Decision Tree Classifier is: {}\".format(accuracy_score(Y_train, rbfsvm_predicttr) * 100))\n",
    "print(\"Accuracy Score on Test data for  Decision Tree Classifier is: {}\".format(accuracy_score(Y_test, rbfsvm_predictts) * 100))\n",
    "print(\"F1 Score  for Decision Tree Classifier is: {}\".format(f1_score(Y_test, rbfsvm_predictts, average=\"weighted\") * 100))"
   ]
  },
  {
   "cell_type": "markdown",
   "metadata": {
    "id": "-LTtcVnCvsWC"
   },
   "source": [
    "### Sensitivity Analysis"
   ]
  },
  {
   "cell_type": "code",
   "execution_count": null,
   "metadata": {
    "id": "aPeoV287vsWC"
   },
   "outputs": [],
   "source": [
    "# Defining Parameters values for Sensitivity Analysis\n",
    "param_grid_solver = {'solver': ['newton-cg', 'lbfgs', 'liblinear', 'sag', 'saga']}\n",
    "param_grid_max_iter = {'max_iter': list(range(100, 1000, 100))}\n",
    "param_grid_c = {'C': list(range(-4, 4))}"
   ]
  },
  {
   "cell_type": "code",
   "execution_count": null,
   "metadata": {
    "id": "XTX3aWl4vsWD"
   },
   "outputs": [],
   "source": [
    "gridlr_solver = GridSearchCV(LogisticRegression(C= 1.0, class_weight= None, dual= False, fit_intercept= True,\n",
    "                              intercept_scaling= 1, l1_ratio= None, max_iter= 100, multi_class= 'auto',\n",
    "                              n_jobs= None, penalty= 'l2', random_state= None),\n",
    "                      param_grid_solver, refit=True, verbose=3)"
   ]
  },
  {
   "cell_type": "code",
   "execution_count": null,
   "metadata": {
    "id": "nV_diVAtvsWD",
    "outputId": "66e1d4aa-11f5-4f84-c36d-8acb9b25013c"
   },
   "outputs": [
    {
     "name": "stdout",
     "output_type": "stream",
     "text": [
      "Fitting 5 folds for each of 5 candidates, totalling 25 fits\n",
      "[CV] solver=newton-cg ................................................\n"
     ]
    },
    {
     "name": "stderr",
     "output_type": "stream",
     "text": [
      "[Parallel(n_jobs=1)]: Using backend SequentialBackend with 1 concurrent workers.\n"
     ]
    }
   ],
   "source": [
    "gridlr_solver.fit(X_train, Y_train.values.ravel())"
   ]
  },
  {
   "cell_type": "code",
   "execution_count": null,
   "metadata": {
    "id": "zDebriLivsWD",
    "outputId": "afb19f15-c4bc-4cb3-d0d6-100b79cc0e0f"
   },
   "outputs": [
    {
     "name": "stdout",
     "output_type": "stream",
     "text": [
      "[-4, -3, -2, -1, 0, 1, 2, 3]\n"
     ]
    }
   ],
   "source": [
    "gridlr_max_iter = GridSearchCV(logmodel(C= 1.0, class_weight= None, dual= False, fit_intercept= True,\n",
    "                              intercept_scaling= 1, l1_ratio= None, multi_class= 'auto',\n",
    "                              n_jobs= None, penalty= 'l2', random_state= None, solver: 'lbgfs'),\n",
    "                      param_grid_max_iter, refit=True, verbose=3)"
   ]
  },
  {
   "cell_type": "code",
   "execution_count": null,
   "metadata": {
    "id": "1GMJlZRXvsWE"
   },
   "outputs": [],
   "source": [
    "gridlr_max_iter.fit(X_train, Y_train)"
   ]
  },
  {
   "cell_type": "code",
   "execution_count": null,
   "metadata": {
    "id": "5J-clnDgvsWE"
   },
   "outputs": [],
   "source": [
    "gridlr_c = GridSearchCV(logmodel(, class_weight= None, dual= False, fit_intercept= True,\n",
    "                              intercept_scaling= 1, l1_ratio= None, max_iter= 100, multi_class= 'auto',\n",
    "                              n_jobs= None, penalty= 'l2', random_state= None, solver: 'lbgfs'),\n",
    "                      param_grid_c, refit=True, verbose=3)"
   ]
  },
  {
   "cell_type": "code",
   "execution_count": null,
   "metadata": {
    "id": "Ys4q0kSrvsWE"
   },
   "outputs": [],
   "source": [
    "gridlr_c.fit(X_train, Y_train)"
   ]
  },
  {
   "cell_type": "code",
   "execution_count": null,
   "metadata": {
    "id": "pwqSQNd0vsWE"
   },
   "outputs": [],
   "source": []
  },
  {
   "cell_type": "code",
   "execution_count": null,
   "metadata": {
    "id": "4nKZ24fpvsWF"
   },
   "outputs": [],
   "source": []
  },
  {
   "cell_type": "markdown",
   "metadata": {
    "id": "fy-tmG7lvsWF"
   },
   "source": [
    "### 5.2) Stop words case"
   ]
  },
  {
   "cell_type": "code",
   "execution_count": null,
   "metadata": {
    "id": "G2_vGFe1vsWF"
   },
   "outputs": [],
   "source": [
    "rbfsvm2 = SVC(C=1.0, kernel='rbf', degree=3, gamma='scale', coef0=0.0, shrinking=True, probability=False, tol=0.001, \n",
    "           cache_size=200, class_weight=None, verbose=False, max_iter=- 1, decision_function_shape='ovr', \n",
    "           break_ties=False, random_state=None)"
   ]
  },
  {
   "cell_type": "code",
   "execution_count": null,
   "metadata": {
    "id": "R7zG_yDGvsWF",
    "outputId": "fe871182-69ce-425c-b8bf-efa42b3bca83"
   },
   "outputs": [
    {
     "name": "stderr",
     "output_type": "stream",
     "text": [
      "C:\\Users\\Hrishikesh\\anaconda3\\lib\\site-packages\\sklearn\\utils\\validation.py:73: DataConversionWarning: A column-vector y was passed when a 1d array was expected. Please change the shape of y to (n_samples, ), for example using ravel().\n",
      "  return f(**kwargs)\n"
     ]
    }
   ],
   "source": [
    "rbfsvm2.fit(X_train2, Y_train)"
   ]
  },
  {
   "cell_type": "markdown",
   "metadata": {
    "id": "V-JAmx_4vsWG"
   },
   "source": [
    "<p style=\"font-family:Gadugi\"> Prediction and Evaluation:"
   ]
  },
  {
   "cell_type": "code",
   "execution_count": null,
   "metadata": {
    "id": "-AA7h2b4vsWG",
    "pycharm": {
     "name": "#%%\n"
    }
   },
   "outputs": [],
   "source": [
    "rbfsvm2.score(X_train2, Y_train)"
   ]
  },
  {
   "cell_type": "code",
   "execution_count": null,
   "metadata": {
    "id": "vRg-9ZahvsWG",
    "pycharm": {
     "name": "#%%\n"
    }
   },
   "outputs": [],
   "source": [
    "rbfsvm2.score(X_test2, Y_test)"
   ]
  },
  {
   "cell_type": "code",
   "execution_count": null,
   "metadata": {
    "id": "etiYRdRxvsWG"
   },
   "outputs": [],
   "source": [
    "rbfsvm2_predicttr = rbfsvm2.predict(X_train2)"
   ]
  },
  {
   "cell_type": "code",
   "execution_count": null,
   "metadata": {
    "id": "IZtdwPuGvsWH",
    "pycharm": {
     "name": "#%%\n"
    }
   },
   "outputs": [],
   "source": [
    "rbfsvm2_predictts = rbfsvm2.predict(X_test2)"
   ]
  },
  {
   "cell_type": "code",
   "execution_count": null,
   "metadata": {
    "id": "4Y7x3TYxvsWH"
   },
   "outputs": [],
   "source": [
    "print('The Report for RBF SVM Classifier Model is: \\n')\n",
    "matrix = plot_confusion_matrix(rbfsvm2, X_test2, Y_test, values_format='d')\n",
    "matrix.ax_.set_title('Confusion Matrix')\n",
    "plt.xlabel('Predicted Label')\n",
    "plt.gcf().axes[0].tick_params(color='black')\n",
    "plt.gcf().set_size_inches(4,3)\n",
    "plt.show()\n",
    "\n",
    "print(classification_report(Y_test, rbfsvm2_predictts))\n",
    "\n",
    "\n",
    "print(\"Accuracy Score on Training data for  Decision Tree Classifier is: {}\".format(accuracy_score(Y_train, rbfsvm2_predicttr) * 100))\n",
    "print(\"Accuracy Score on Test data for  Decision Tree Classifier is: {}\".format(accuracy_score(Y_test, rbfsvm2_predictts) * 100))\n",
    "print(\"F1 Score  for Decision Tree Classifier is: {}\".format(f1_score(Y_test, rbfsvm2_predictts, average=\"weighted\") * 100))"
   ]
  },
  {
   "cell_type": "code",
   "execution_count": null,
   "metadata": {},
   "outputs": [],
   "source": []
  },
  {
   "cell_type": "code",
   "execution_count": null,
   "metadata": {},
   "outputs": [],
   "source": []
  },
  {
   "cell_type": "code",
   "execution_count": 23,
   "metadata": {},
   "outputs": [],
   "source": [
    "# Import Train and Test data\n",
    "train_data = pd.read_csv('train_4.csv')\n",
    "test_data = pd.read_csv('d_4.csv')\n",
    "\n",
    "# TF-IDF Vectorizer for 'OBS(mist-free)-2' text column in Train data\n",
    "vectorizer = TfidfVectorizer(min_df= 2, sublinear_tf=True, norm='l2', ngram_range=(1, 3))\n",
    "final_features = vectorizer.fit_transform(train_data['OBS(mist-free)-2']).toarray()\n",
    "\n",
    "# Train data-\n",
    "X_train = train_data['OBS(mist-free)-2']\n",
    "y_train = train_data['Category-encoded-2']\n",
    "\n",
    "# Test data-\n",
    "X_test = test_data['OBS(mist-free)-2']\n",
    "y_test = test_data['Category-encoded-2']\n",
    "\n",
    "# Logistic Regression Pipeline\n",
    "LRPipeline = Pipeline([('vect', vectorizer),\n",
    "                 ('clf', LogisticRegression(C= 10, class_weight= None, dual= False, fit_intercept= True,\n",
    "                          intercept_scaling= 1, l1_ratio= None, multi_class= 'auto',\n",
    "                          n_jobs= None, penalty= 'l2', random_state=6, solver='liblinear', max_iter=1000))])\n",
    "\n",
    "model = LRPipeline.fit(X_train, y_train)\n",
    "\n",
    "# Saving model to disk\n",
    "# Pickle serializes objects so they can be saved to a file, and loaded in a program again later on.\n",
    "pickle.dump(model, open('model.pkl','wb'))"
   ]
  },
  {
   "cell_type": "code",
   "execution_count": 25,
   "metadata": {},
   "outputs": [],
   "source": [
    "app = Flask(__name__)\n",
    "# read our pickle file and label our logisticmodel as model\n",
    "model = pickle.load(open('model.pkl', 'rb'))\n",
    "\n",
    "@app.route('/')\n",
    "def home():\n",
    "    return render_template('index.html')\n",
    "\n",
    "@app.route('/predict',methods=['POST','GET'])\n",
    "def predict():\n",
    "\n",
    "    vectorizer = TfidfVectorizer(min_df= 2, sublinear_tf=True, norm='l2', ngram_range=(1, 3))\n",
    "    final_features = vectorizer.fit_transform(request.form.values()).toarray()\n",
    "    \n",
    "#     int_features = [float(x) for x in request.form.values()]\n",
    "#     final_features = [np.array(int_features)]\n",
    "    prediction = model.predict(final_features)\n",
    "\n",
    "    \n",
    "    if prediction=='GO':\n",
    "        return render_template('index.html',\n",
    "                               prediction_text='{}: This is a Good Observation!'.format(prediction),\n",
    "                               )\n",
    "    elif prediction=='UA':\n",
    "        return render_template('index.html',\n",
    "                               prediction_text='{}: This is an Unsafe Act !!'.format(prediction),\n",
    "                               )\n",
    "    else:\n",
    "        return render_template('index.html',\n",
    "                               prediction_text='{}: This is an Unsafe Condition !!'.format(prediction),\n",
    "                              )"
   ]
  },
  {
   "cell_type": "code",
   "execution_count": null,
   "metadata": {},
   "outputs": [],
   "source": []
  }
 ],
 "metadata": {
  "colab": {
   "collapsed_sections": [
    "-apN3YkjvsV0",
    "NJ1OGKJNvsV0",
    "UcdZfDhXvsV3",
    "moX8dQt9vsV-",
    "zQWxp-IjvsV_",
    "-LTtcVnCvsWC"
   ],
   "name": "Appendix_A_Sensitivity_Analysis Final.ipynb",
   "provenance": []
  },
  "kernelspec": {
   "display_name": "Python 3",
   "language": "python",
   "name": "python3"
  },
  "language_info": {
   "codemirror_mode": {
    "name": "ipython",
    "version": 3
   },
   "file_extension": ".py",
   "mimetype": "text/x-python",
   "name": "python",
   "nbconvert_exporter": "python",
   "pygments_lexer": "ipython3",
   "version": "3.8.3"
  }
 },
 "nbformat": 4,
 "nbformat_minor": 1
}
